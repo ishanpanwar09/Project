{
 "cells": [
  {
   "cell_type": "code",
   "execution_count": 1,
   "metadata": {
    "collapsed": false
   },
   "outputs": [],
   "source": [
    "import pandas as pd\n",
    "import numpy as np\n",
    "import timeit\n",
    "import operator\n",
    "from sklearn.metrics import mean_squared_error as mse\n",
    "from scipy.spatial import distance\n",
    "from math import sqrt\n",
    "from __future__ import division # for having results of accuracy in floating numbers"
   ]
  },
  {
   "cell_type": "code",
   "execution_count": 2,
   "metadata": {
    "collapsed": false
   },
   "outputs": [],
   "source": [
    "def transformData(df):\n",
    "    temp=[]\n",
    "    for row in df.iterrows():\n",
    "        index, data = row\n",
    "        temp.append(data.tolist())\n",
    "    return temp\n",
    "\n",
    "columns = ['user','movie','rating','idk']\n",
    "train_90 = pd.read_csv(\"ratings_training_90.csv\",names = columns)\n",
    "test_10 = pd.read_csv(\"ratings_test_10.csv\",names = columns)\n",
    "test = transformData(test_10)"
   ]
  },
  {
   "cell_type": "code",
   "execution_count": 3,
   "metadata": {
    "collapsed": false
   },
   "outputs": [],
   "source": [
    "df_train= train_90.pivot(index='user', columns='movie', values='rating')\n",
    "df_test= test_10.pivot(index='user', columns='movie', values='rating')\n",
    "df_train = df_train.fillna(0)\n",
    "df_test = df_test.fillna(0)\n",
    "time = []\n",
    "rmsT = []"
   ]
  },
  {
   "cell_type": "code",
   "execution_count": 4,
   "metadata": {
    "collapsed": false
   },
   "outputs": [],
   "source": [
    "def getNeighbors(trainingSet, testInstance, k):\n",
    "    testuser = int(testInstance[0])  \n",
    "    testmovie = testInstance[1] \n",
    "    test_user_rating = testInstance[2]\n",
    "    reduced_Data = trainingSet[trainingSet[testmovie] > 0]   # Subset of data for test movie id\n",
    "    Other_users_rated_as = np.array(pd.DataFrame(reduced_Data)[int(testmovie)])\n",
    "    filtered_users = reduced_Data.index.values   # users who have watched the movie being rated \n",
    "    pred_user = trainingSet[trainingSet.index == testuser]\n",
    "    distances = []     # calculating distance\n",
    "    d = 0 \n",
    "    for i in filtered_users:\n",
    "        dist = distance.euclidean(reduced_Data[reduced_Data.index == i],pred_user)\n",
    "        distances.append([testuser,i,int(reduced_Data[reduced_Data.index==i][testmovie].values),dist])\n",
    "    distances.sort(key=operator.itemgetter(3))\n",
    "    check = len(distances)\n",
    "    neighbors = []\n",
    "    if (check > k):\n",
    "        for i in range(k):\n",
    "            neighbors.append(distances[i])\n",
    "    else:\n",
    "        for i in range(check):\n",
    "            neighbors.append(distances[i])\n",
    "    return neighbors"
   ]
  },
  {
   "cell_type": "code",
   "execution_count": 5,
   "metadata": {
    "collapsed": true
   },
   "outputs": [],
   "source": [
    "def get(neighbors):\n",
    "    cl = 0\n",
    "    for x in range(len(neighbors)):\n",
    "        cl += neighbors[x][2]\n",
    "    prediction = round(cl/float(len(neighbors)), 1)\n",
    "    return prediction"
   ]
  },
  {
   "cell_type": "code",
   "execution_count": 6,
   "metadata": {
    "collapsed": false
   },
   "outputs": [],
   "source": [
    "a = int(len(test))\n",
    "start = timeit.default_timer()\n",
    "pred = []\n",
    "predictions=[]\n",
    "k = 10\n",
    "#a = 20\n",
    "for x in range(a):\n",
    "    neigh = getNeighbors(df_train, test[x], k)\n",
    "    result = get(neigh)\n",
    "    predictions.append([test[x][0],test[x][1],test[x][2],result])\n",
    "    pred.append(result)\n",
    "stop = timeit.default_timer()\n",
    "stop = stop - start"
   ]
  },
  {
   "cell_type": "code",
   "execution_count": 7,
   "metadata": {
    "collapsed": false
   },
   "outputs": [],
   "source": [
    "pred = pd.DataFrame(predictions)\n",
    "pred.to_csv('ratings_predictions_10_knn_uw_k10.csv')"
   ]
  },
  {
   "cell_type": "code",
   "execution_count": 8,
   "metadata": {
    "collapsed": false
   },
   "outputs": [],
   "source": [
    "time.append(stop)\n",
    "rms = sqrt(mse(pred[2],pred[3]))\n",
    "rmsT.append(rms)"
   ]
  },
  {
   "cell_type": "code",
   "execution_count": 9,
   "metadata": {
    "collapsed": true
   },
   "outputs": [],
   "source": [
    "# Unweighted KNN\n",
    "# time.  K = 3:   700.3680259380053  RMSE: 1.127934707729547\n",
    "# time.  K = 5:   668.4838295660011  RMSE: 1.0604713965491257\n",
    "# time.  K = 10:  653.8688204270002  RMSE: 1.02051020791709"
   ]
  },
  {
   "cell_type": "code",
   "execution_count": 10,
   "metadata": {
    "collapsed": false
   },
   "outputs": [
    {
     "data": {
      "text/plain": [
       "([432.47429992600155], [1.0204923263369583])"
      ]
     },
     "execution_count": 10,
     "metadata": {},
     "output_type": "execute_result"
    }
   ],
   "source": [
    "time, rmsT"
   ]
  },
  {
   "cell_type": "code",
   "execution_count": 78,
   "metadata": {
    "collapsed": false
   },
   "outputs": [],
   "source": [
    "time = [660.6614640900079, 662.0650260520051, 660.425073802995,700.3680259380053, 668.4838295660011, 653.8688204270002]\n",
    "algorithm = ['Wt-KNN', 'Wt-KNN', 'Wt-KNN', 'UNWT-KNN', 'UNWT-KNN', 'UNWT-KNN']\n",
    "rmse = [1.2707091613268062, 1.1444297704440511, 1.054834443814851,1.127934707729547, 1.0604713965491257, 1.02051020791709]\n",
    "k = [3,5,10,3,5,10]\n",
    "Knn_metric = pd.DataFrame(k,columns=['K-Value'])\n",
    "Knn_metric['time'] = time\n",
    "Knn_metric['rmse'] = rmse\n",
    "Knn_metric['algorithm'] = algorithm"
   ]
  },
  {
   "cell_type": "code",
   "execution_count": 95,
   "metadata": {
    "collapsed": false,
    "scrolled": false
   },
   "outputs": [
    {
     "data": {
      "image/png": "[encoded data removed]",
      "text/plain": [
       "<matplotlib.figure.Figure at 0x111e9f7b8>"
      ]
     },
     "metadata": {},
     "output_type": "display_data"
    }
   ],
   "source": [
    "import seaborn as sns\n",
    "g = sns.pointplot(x=\"K-Value\", y=\"time\",hue = 'algorithm', data=Knn_metric)\n",
    "g.set(xlabel='K-Value', ylabel='Time taken in seconds')\n",
    "plt.show()"
   ]
  },
  {
   "cell_type": "code",
   "execution_count": 99,
   "metadata": {
    "collapsed": false
   },
   "outputs": [
    {
     "data": {
      "image/png": "[encoded data removed]",
      "text/plain": [
       "<matplotlib.figure.Figure at 0x10ed46f60>"
      ]
     },
     "metadata": {},
     "output_type": "display_data"
    }
   ],
   "source": [
    "g = sns.pointplot(x=\"K-Value\", y=\"rmse\",hue = 'algorithm', data=Knn_metric)\n",
    "g.set(xlabel='K-Value', ylabel='RMSE')\n",
    "plt.show()"
   ]
  },
  {
   "cell_type": "code",
   "execution_count": 100,
   "metadata": {
    "collapsed": false
   },
   "outputs": [
    {
     "data": {
      "text/html": [
       "<div>\n",
       "<table border=\"1\" class=\"dataframe\">\n",
       "  <thead>\n",
       "    <tr style=\"text-align: right;\">\n",
       "      <th></th>\n",
       "      <th>K-Value</th>\n",
       "      <th>time</th>\n",
       "      <th>rmse</th>\n",
       "      <th>algorithm</th>\n",
       "    </tr>\n",
       "  </thead>\n",
       "  <tbody>\n",
       "    <tr>\n",
       "      <th>0</th>\n",
       "      <td>3</td>\n",
       "      <td>660.661464</td>\n",
       "      <td>1.270709</td>\n",
       "      <td>Wt-KNN</td>\n",
       "    </tr>\n",
       "    <tr>\n",
       "      <th>1</th>\n",
       "      <td>5</td>\n",
       "      <td>662.065026</td>\n",
       "      <td>1.144430</td>\n",
       "      <td>Wt-KNN</td>\n",
       "    </tr>\n",
       "    <tr>\n",
       "      <th>2</th>\n",
       "      <td>10</td>\n",
       "      <td>660.425074</td>\n",
       "      <td>1.054834</td>\n",
       "      <td>Wt-KNN</td>\n",
       "    </tr>\n",
       "    <tr>\n",
       "      <th>3</th>\n",
       "      <td>3</td>\n",
       "      <td>700.368026</td>\n",
       "      <td>1.127935</td>\n",
       "      <td>UNWT-KNN</td>\n",
       "    </tr>\n",
       "    <tr>\n",
       "      <th>4</th>\n",
       "      <td>5</td>\n",
       "      <td>668.483830</td>\n",
       "      <td>1.060471</td>\n",
       "      <td>UNWT-KNN</td>\n",
       "    </tr>\n",
       "    <tr>\n",
       "      <th>5</th>\n",
       "      <td>10</td>\n",
       "      <td>653.868820</td>\n",
       "      <td>1.020510</td>\n",
       "      <td>UNWT-KNN</td>\n",
       "    </tr>\n",
       "  </tbody>\n",
       "</table>\n",
       "</div>"
      ],
      "text/plain": [
       "   K-Value        time      rmse algorithm\n",
       "0        3  660.661464  1.270709    Wt-KNN\n",
       "1        5  662.065026  1.144430    Wt-KNN\n",
       "2       10  660.425074  1.054834    Wt-KNN\n",
       "3        3  700.368026  1.127935  UNWT-KNN\n",
       "4        5  668.483830  1.060471  UNWT-KNN\n",
       "5       10  653.868820  1.020510  UNWT-KNN"
      ]
     },
     "execution_count": 100,
     "metadata": {},
     "output_type": "execute_result"
    }
   ],
   "source": [
    "Knn_metric"
   ]
  },
  {
   "cell_type": "code",
   "execution_count": null,
   "metadata": {
    "collapsed": true
   },
   "outputs": [],
   "source": []
  }
 ],
 "metadata": {
  "anaconda-cloud": {},
  "kernelspec": {
   "display_name": "Python [default]",
   "language": "python",
   "name": "python3"
  },
  "language_info": {
   "codemirror_mode": {
    "name": "ipython",
    "version": 3
   },
   "file_extension": ".py",
   "mimetype": "text/x-python",
   "name": "python",
   "nbconvert_exporter": "python",
   "pygments_lexer": "ipython3",
   "version": "3.5.2"
  }
 },
 "nbformat": 4,
 "nbformat_minor": 2
}
