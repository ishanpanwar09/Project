{
 "cells": [
  {
   "cell_type": "markdown",
   "metadata": {},
   "source": [
    "<h3 align=\"center\">Movie Rating Prediction using Collaborative Filtering</h3> "
   ]
  },
  {
   "cell_type": "markdown",
   "metadata": {},
   "source": [
    "<h3>Stage: 1</h3> "
   ]
  },
  {
   "cell_type": "markdown",
   "metadata": {
    "collapsed": false
   },
   "source": [
    "#### Dependencies for the project"
   ]
  },
  {
   "cell_type": "code",
   "execution_count": 17,
   "metadata": {
    "collapsed": true
   },
   "outputs": [],
   "source": [
    "import pandas as pd\n",
    "import numpy as np\n",
    "import operator\n",
    "from math import sqrt\n",
    "import timeit"
   ]
  },
  {
   "cell_type": "code",
   "execution_count": 18,
   "metadata": {
    "collapsed": true
   },
   "outputs": [],
   "source": [
    "columns = ['user','movie','rating','idk']\n",
    "data = pd.read_csv(\"ratings_training_85.csv\",names = columns)\n",
    "test = pd.read_csv(\"ratings_test_15.csv\",names = columns)"
   ]
  },
  {
   "cell_type": "markdown",
   "metadata": {},
   "source": [
    "#### Removing the extra feature/column"
   ]
  },
  {
   "cell_type": "code",
   "execution_count": 19,
   "metadata": {
    "collapsed": false
   },
   "outputs": [],
   "source": [
    "data = data.drop('idk', 1)\n",
    "test = test.drop('idk', 1)"
   ]
  },
  {
   "cell_type": "markdown",
   "metadata": {},
   "source": [
    "### Scaling Data\n",
    "    * Scaling data for pearson corelation or centered cosine"
   ]
  },
  {
   "cell_type": "code",
   "execution_count": 20,
   "metadata": {
    "collapsed": false
   },
   "outputs": [],
   "source": [
    "#\n",
    "# Getting average rating for a user\n",
    "#\n",
    "all_user = list(set(data.user))\n",
    "avg_rating_of_user = []\n",
    "for i in range(len(all_user)):\n",
    "    df = data.ix[data.user==i]\n",
    "    avg_rating_of_user.append([i,np.average(df.rating.values)])"
   ]
  },
  {
   "cell_type": "code",
   "execution_count": 21,
   "metadata": {
    "collapsed": false,
    "scrolled": true
   },
   "outputs": [
    {
     "name": "stderr",
     "output_type": "stream",
     "text": [
      "/Users/ishansingh/anaconda/lib/python3.5/site-packages/ipykernel/__main__.py:7: SettingWithCopyWarning: \n",
      "A value is trying to be set on a copy of a slice from a DataFrame\n",
      "\n",
      "See the caveats in the documentation: http://pandas.pydata.org/pandas-docs/stable/indexing.html#indexing-view-versus-copy\n"
     ]
    }
   ],
   "source": [
    "all_users= data.user.unique()\n",
    "avg_rating = []\n",
    "for i in all_users:\n",
    "    avg_rating.append([i,np.average(data[data.user==i].rating.values)])\n",
    "data['scaled'] = 0\n",
    "for i in all_users:\n",
    "    data['scaled'][data.user == i] = avg_rating[i][1]\n",
    "\n",
    "data['adj_rating'] = data.rating - data.scaled\n",
    "\n",
    "# creates pivoted dataframe\n",
    "data_ibs = data.pivot(index='user', columns='movie', values='adj_rating')\n",
    "data_ibs = data_ibs.fillna(0)"
   ]
  },
  {
   "cell_type": "code",
   "execution_count": 22,
   "metadata": {
    "collapsed": false
   },
   "outputs": [],
   "source": [
    "# this similarity should be between -1 to 1\n",
    "def my_cosine(vec1,vec2):\n",
    "    num = 0\n",
    "    den1 = 0\n",
    "    den2 = 0\n",
    "    for i in range(len(vec1)):\n",
    "        num += vec1[i]*vec2[i]\n",
    "        if(vec1[i]==0 or vec2[i]==0):\n",
    "            continue\n",
    "        else:\n",
    "            den1 += vec1[i]**2\n",
    "            den2 += vec2[i]**2\n",
    "    den = sqrt(den1) * sqrt(den2)\n",
    "    sim = num/den\n",
    "    return sim\n",
    "\n",
    "# Only uncomment when you want to create one.\n",
    "\n",
    "#sim_mat = pd.DataFrame(np.zeros((9216, 9216)))\n",
    "#sim_mat = sim_mat.replace(0,-5)"
   ]
  },
  {
   "cell_type": "markdown",
   "metadata": {},
   "source": [
    "# Sim function is the main Guy"
   ]
  },
  {
   "cell_type": "code",
   "execution_count": 23,
   "metadata": {
    "collapsed": false
   },
   "outputs": [],
   "source": [
    "def sim(test_instance,data,pivot_df):\n",
    "    similarity = []\n",
    "    item_for_test = int(test_instance.movie.values)\n",
    "    for_user = int(test_instance.user.values)\n",
    "    checkonly_movies = data.ix[data.user==for_user].movie.values  # normal df is used here\n",
    "    for m in checkonly_movies:\n",
    "        # using pivot data\n",
    "        if sim_mat[item_for_test][m] == -5:\n",
    "            sim = my_cosine(pivot_df[item_for_test], pivot_df[m])\n",
    "            sim_mat[item_for_test][m] = sim\n",
    "            sim_mat[m][item_for_test] = sim\n",
    "            rating = pivot_df[m][for_user]\n",
    "            similarity.append((m,sim,for_user,item_for_test,rating))\n",
    "        else:\n",
    "            sim = sim_mat[item_for_test][m]\n",
    "            rating = pivot_df[m][for_user]\n",
    "            similarity.append((m,sim,for_user,item_for_test,rating))\n",
    "    #similarity.sort(key=operator.itemgetter(1))\n",
    "    return similarity"
   ]
  },
  {
   "cell_type": "code",
   "execution_count": null,
   "metadata": {
    "collapsed": true
   },
   "outputs": [],
   "source": [
    "from datetime import datetime\n",
    "prediction = []\n",
    "count = 0\n",
    "start = timeit.default_timer()\n",
    "for i in range(len(test)):\n",
    "    count += 1\n",
    "    simi = sim(test.loc[i:i,],data,data_ibs)\n",
    "    sim1 = 0\n",
    "    semi_sim = 0\n",
    "    for i in simi:\n",
    "        from_movie = int(i[0])\n",
    "        similar = i[1]\n",
    "        user = int(i[2])\n",
    "        pred_movie = i[3]\n",
    "        if(similar > 0):\n",
    "            tmp = data[(data.movie==from_movie) & (data.user == user)].rating.values*similar\n",
    "            semi_sim += tmp[0]\n",
    "            sim1 += similar\n",
    "            temprate = test[(test.movie==pred_movie) & (test.user == user)].rating.values\n",
    "    prediction.append([user,pred_movie,temprate,semi_sim,sim1])\n",
    "    if(count%100 == 0):\n",
    "        print('Step:',count, 'time:',str(datetime.now().time()))\n",
    "stop = timeit.default_timer()\n",
    "print('total time:',stop - start) "
   ]
  },
  {
   "cell_type": "code",
   "execution_count": 25,
   "metadata": {
    "collapsed": false,
    "scrolled": true
   },
   "outputs": [],
   "source": [
    "# save it for future use.\n",
    "sim_mat.to_csv('similaritymatrix_85_15.csv')\n",
    "\n",
    "col = ['user','movie','rating','sim_num','sim_den']\n",
    "df= pd.DataFrame(prediction, columns=col)\n",
    "df['prediction'] = round(df.sim_num/df.sim_den,1)\n",
    "actual_rating = []\n",
    "for i in range(len(df.rating)):\n",
    "    actual_rating.append(df.rating[i][0])\n",
    "df = df.drop('rating', 1)\n",
    "df = df.drop('sim_num', 1)\n",
    "df = df.drop('sim_den', 1)\n",
    "df['rating'] = actual_rating\n",
    "\n",
    "df = df[['user','movie','rating','prediction']]\n",
    "df.to_csv('ratings_predictions_15_cf.csv')"
   ]
  },
  {
   "cell_type": "code",
   "execution_count": 26,
   "metadata": {
    "collapsed": false
   },
   "outputs": [
    {
     "data": {
      "text/plain": [
       "0.9147539035726028"
      ]
     },
     "execution_count": 26,
     "metadata": {},
     "output_type": "execute_result"
    }
   ],
   "source": [
    "mse1_20 = (((df.prediction - df.rating) ** 2).sum()) / len(df.prediction)\n",
    "pow(mse1_20,0.5)  #0.9147539035726028"
   ]
  },
  {
   "cell_type": "code",
   "execution_count": null,
   "metadata": {
    "collapsed": true
   },
   "outputs": [],
   "source": []
  }
 ],
 "metadata": {
  "anaconda-cloud": {},
  "kernelspec": {
   "display_name": "Python [default]",
   "language": "python",
   "name": "python3"
  },
  "language_info": {
   "codemirror_mode": {
    "name": "ipython",
    "version": 3
   },
   "file_extension": ".py",
   "mimetype": "text/x-python",
   "name": "python",
   "nbconvert_exporter": "python",
   "pygments_lexer": "ipython3",
   "version": "3.5.2"
  }
 },
 "nbformat": 4,
 "nbformat_minor": 1
}
