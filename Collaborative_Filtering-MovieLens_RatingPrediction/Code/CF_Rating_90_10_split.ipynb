{
 "cells": [
  {
   "cell_type": "markdown",
   "metadata": {},
   "source": [
    "<h3 align=\"center\">Movie Rating Prediction using Collaborative Filtering</h3> "
   ]
  },
  {
   "cell_type": "markdown",
   "metadata": {},
   "source": [
    "<h3>Stage: 1</h3> "
   ]
  },
  {
   "cell_type": "markdown",
   "metadata": {
    "collapsed": false
   },
   "source": [
    "#### Dependencies for the project"
   ]
  },
  {
   "cell_type": "code",
   "execution_count": 1,
   "metadata": {
    "collapsed": true
   },
   "outputs": [],
   "source": [
    "# https://www.youtube.com/watch?v=-8BrRnFzq_Y&t=470s\n",
    "\n",
    "import pandas as pd\n",
    "import numpy as np\n",
    "import operator\n",
    "from math import sqrt\n",
    "import timeit"
   ]
  },
  {
   "cell_type": "code",
   "execution_count": 2,
   "metadata": {
    "collapsed": true
   },
   "outputs": [],
   "source": [
    "columns = ['user','movie','rating','idk']\n",
    "data = pd.read_csv(\"ratings_training_90.csv\",names = columns)\n",
    "test = pd.read_csv(\"ratings_test_10.csv\",names = columns)"
   ]
  },
  {
   "cell_type": "markdown",
   "metadata": {},
   "source": [
    "#### Removing the extra feature/column"
   ]
  },
  {
   "cell_type": "code",
   "execution_count": 3,
   "metadata": {
    "collapsed": false
   },
   "outputs": [],
   "source": [
    "data = data.drop('idk', 1)\n",
    "test = test.drop('idk', 1)\n",
    "#data_test = pd.read_csv('ratings_test_20.csv',names = columns)"
   ]
  },
  {
   "cell_type": "markdown",
   "metadata": {},
   "source": [
    "### Scaling Data\n",
    "    * Scaling data for pearson corelation or centered cosine"
   ]
  },
  {
   "cell_type": "code",
   "execution_count": 4,
   "metadata": {
    "collapsed": false
   },
   "outputs": [],
   "source": [
    "#\n",
    "# Getting average rating for a user\n",
    "#\n",
    "# data se unique users nikale-> fir har user ki sari ratngs \n",
    "#mila kar avg rating user ki nikal li\n",
    "\n",
    "all_user = list(set(data.user))\n",
    "avg_rating_of_user = []\n",
    "for i in range(len(all_user)):\n",
    "    df = data.ix[data.user==i]\n",
    "    avg_rating_of_user.append([i,np.average(df.rating.values)])"
   ]
  },
  {
   "cell_type": "code",
   "execution_count": 5,
   "metadata": {
    "collapsed": false,
    "scrolled": true
   },
   "outputs": [
    {
     "name": "stderr",
     "output_type": "stream",
     "text": [
      "/Users/neerajlamba/anaconda/lib/python3.6/site-packages/ipykernel/__main__.py:8: SettingWithCopyWarning: \n",
      "A value is trying to be set on a copy of a slice from a DataFrame\n",
      "\n",
      "See the caveats in the documentation: http://pandas.pydata.org/pandas-docs/stable/indexing.html#indexing-view-versus-copy\n"
     ]
    }
   ],
   "source": [
    "all_users= data.user.unique()\n",
    "avg_rating = []\n",
    "for i in all_users:\n",
    "    avg_rating.append([i,np.average(data[data.user==i].rating.values)])\n",
    "data['scaled'] = 0\n",
    "for i in all_users:\n",
    "#   data['scaled'] = data.rating[data.user == i] - avg_rating[i][1]\n",
    "    data['scaled'][data.user == i] = avg_rating[i][1]"
   ]
  },
  {
   "cell_type": "code",
   "execution_count": 6,
   "metadata": {
    "collapsed": true
   },
   "outputs": [],
   "source": [
    "data['adj_rating'] = data.rating - data.scaled"
   ]
  },
  {
   "cell_type": "code",
   "execution_count": 7,
   "metadata": {
    "collapsed": false
   },
   "outputs": [],
   "source": [
    "# creates pivoted dataframe\n",
    "data_ibs = data.pivot(index='user', columns='movie', values='adj_rating')\n",
    "data_ibs = data_ibs.fillna(0)"
   ]
  },
  {
   "cell_type": "code",
   "execution_count": 12,
   "metadata": {
    "collapsed": false
   },
   "outputs": [],
   "source": [
    "# this similarity should be between -1 to 1\n",
    "def my_cosine(vec1,vec2):\n",
    "    num = 0\n",
    "    den1 = 0\n",
    "    den2 = 0\n",
    "    for i in range(len(vec1)):\n",
    "        num += vec1[i]*vec2[i]\n",
    "        if(vec1[i]==0 or vec2[i]==0):\n",
    "            continue\n",
    "        else:\n",
    "            den1 += vec1[i]**2\n",
    "            den2 += vec2[i]**2\n",
    "    den = sqrt(den1) * sqrt(den2)\n",
    "    sim = num/den\n",
    "    return sim\n",
    "\n",
    "# Only uncomment when you want to create one.\n",
    "\n",
    "sim_mat = pd.DataFrame(np.zeros((9216, 9216)))\n",
    "sim_mat = sim_mat.replace(0,-5)"
   ]
  },
  {
   "cell_type": "markdown",
   "metadata": {},
   "source": [
    "# Sim function is the main Guy"
   ]
  },
  {
   "cell_type": "code",
   "execution_count": 15,
   "metadata": {
    "collapsed": false
   },
   "outputs": [],
   "source": [
    "def sim(test_instance,data,pivot_df):\n",
    "    similarity = []\n",
    "    item_for_test = int(test_instance.movie.values)\n",
    "    for_user = int(test_instance.user.values)\n",
    "    checkonly_movies = data.ix[data.user==for_user].movie.values  # normal df is used here\n",
    "    for m in checkonly_movies:\n",
    "        # using pivot data\n",
    "        if sim_mat[item_for_test][m] == -5:\n",
    "            sim = my_cosine(pivot_df[item_for_test], pivot_df[m])\n",
    "            sim_mat[item_for_test][m] = sim\n",
    "            sim_mat[m][item_for_test] = sim\n",
    "            rating = pivot_df[m][for_user]\n",
    "            similarity.append((m,sim,for_user,item_for_test,rating))\n",
    "        else:\n",
    "            sim = sim_mat[item_for_test][m]\n",
    "            rating = pivot_df[m][for_user]\n",
    "            similarity.append((m,sim,for_user,item_for_test,rating))\n",
    "    #similarity.sort(key=operator.itemgetter(1))\n",
    "    return similarity"
   ]
  },
  {
   "cell_type": "code",
   "execution_count": 17,
   "metadata": {
    "collapsed": false,
    "scrolled": true
   },
   "outputs": [
    {
     "name": "stderr",
     "output_type": "stream",
     "text": [
      "/Users/neerajlamba/anaconda/lib/python3.6/site-packages/ipykernel/__main__.py:14: RuntimeWarning: invalid value encountered in double_scalars\n"
     ]
    },
    {
     "name": "stdout",
     "output_type": "stream",
     "text": [
      "Step: 100 time: 20:16:57.428042\n",
      "Step: 200 time: 21:06:25.593610\n",
      "Step: 300 time: 21:35:51.327835\n",
      "Step: 400 time: 21:45:20.137294\n",
      "Step: 500 time: 22:00:51.764749\n",
      "Step: 600 time: 22:23:06.806763\n",
      "Step: 700 time: 22:25:59.835552\n",
      "Step: 800 time: 22:34:36.414004\n",
      "Step: 900 time: 22:43:37.839658\n",
      "Step: 1000 time: 22:52:07.578849\n",
      "Step: 1100 time: 23:35:15.433027\n",
      "Step: 1200 time: 23:53:44.806632\n",
      "Step: 1300 time: 23:56:59.694496\n",
      "Step: 1400 time: 00:00:25.499304\n",
      "Step: 1500 time: 00:10:05.751163\n",
      "Step: 1600 time: 00:21:47.065259\n",
      "Step: 1700 time: 00:27:40.598886\n",
      "Step: 1800 time: 00:33:46.287903\n",
      "Step: 1900 time: 00:39:56.283404\n",
      "Step: 2000 time: 00:41:40.279497\n",
      "Step: 2100 time: 00:46:30.411158\n",
      "Step: 2200 time: 00:49:48.915017\n",
      "Step: 2300 time: 00:54:49.611598\n",
      "Step: 2400 time: 00:57:50.090916\n",
      "Step: 2500 time: 01:02:06.198769\n",
      "Step: 2600 time: 01:09:40.722244\n",
      "Step: 2700 time: 01:16:23.149260\n",
      "Step: 2800 time: 01:37:59.451432\n",
      "Step: 2900 time: 01:45:21.945696\n",
      "Step: 3000 time: 01:48:53.497620\n",
      "Step: 3100 time: 02:01:07.351271\n",
      "Step: 3200 time: 02:05:22.145791\n",
      "Step: 3300 time: 02:10:50.977274\n",
      "Step: 3400 time: 02:13:44.308888\n",
      "Step: 3500 time: 02:22:42.755527\n",
      "Step: 3600 time: 02:26:32.370323\n",
      "Step: 3700 time: 02:30:07.565801\n",
      "Step: 3800 time: 02:34:16.070471\n",
      "Step: 3900 time: 02:56:19.444736\n",
      "Step: 4000 time: 03:00:22.079166\n",
      "Step: 4100 time: 03:09:41.248018\n",
      "Step: 4200 time: 03:30:25.739994\n",
      "Step: 4300 time: 03:32:58.073463\n",
      "Step: 4400 time: 03:34:28.178916\n",
      "Step: 4500 time: 03:37:55.774649\n",
      "Step: 4600 time: 03:43:37.386508\n",
      "Step: 4700 time: 03:51:48.996664\n",
      "Step: 4800 time: 03:54:04.885385\n",
      "Step: 4900 time: 04:01:42.242034\n",
      "Step: 5000 time: 04:18:50.990092\n",
      "Step: 5100 time: 04:24:47.195086\n",
      "Step: 5200 time: 04:37:40.405785\n",
      "Step: 5300 time: 04:39:52.258314\n",
      "Step: 5400 time: 04:46:09.800280\n",
      "Step: 5500 time: 04:48:13.350714\n",
      "Step: 5600 time: 04:51:43.836455\n",
      "Step: 5700 time: 04:54:39.422845\n",
      "Step: 5800 time: 04:56:34.899512\n",
      "Step: 5900 time: 05:18:49.617402\n",
      "Step: 6000 time: 05:37:14.097448\n",
      "Step: 6100 time: 05:46:32.937371\n",
      "Step: 6200 time: 05:54:48.123076\n",
      "Step: 6300 time: 06:06:33.214109\n",
      "Step: 6400 time: 06:31:34.763285\n",
      "Step: 6500 time: 06:44:07.090974\n",
      "Step: 6600 time: 06:56:03.882733\n",
      "Step: 6700 time: 07:01:36.933533\n",
      "Step: 6800 time: 07:03:38.497034\n",
      "Step: 6900 time: 07:05:17.466632\n",
      "Step: 7000 time: 07:13:20.811433\n",
      "Step: 7100 time: 07:21:54.660708\n",
      "Step: 7200 time: 07:31:34.999285\n",
      "Step: 7300 time: 07:33:17.369530\n",
      "Step: 7400 time: 07:41:16.539646\n",
      "Step: 7500 time: 07:43:44.200825\n",
      "Step: 7600 time: 07:55:47.505889\n",
      "Step: 7700 time: 08:52:08.578720\n",
      "Step: 7800 time: 09:27:25.404823\n",
      "Step: 7900 time: 09:29:03.832160\n",
      "Step: 8000 time: 09:41:40.063924\n",
      "Step: 8100 time: 10:21:17.159358\n",
      "Step: 8200 time: 10:45:20.474235\n",
      "Step: 8300 time: 10:51:41.177083\n",
      "Step: 8400 time: 11:03:10.735026\n",
      "Step: 8500 time: 11:07:42.518252\n",
      "Step: 8600 time: 11:10:34.255584\n",
      "Step: 8700 time: 11:14:12.246398\n",
      "Step: 8800 time: 11:18:12.205122\n",
      "Step: 8900 time: 11:20:59.209741\n",
      "Step: 9000 time: 11:24:04.650522\n",
      "Step: 9100 time: 11:59:51.417183\n",
      "Step: 9200 time: 12:14:46.446254\n",
      "Step: 9300 time: 12:15:36.558245\n",
      "Step: 9400 time: 12:20:01.481003\n",
      "Step: 9500 time: 12:22:36.854077\n",
      "total time: 58426.296713575\n"
     ]
    }
   ],
   "source": [
    "from datetime import datetime\n",
    "prediction = []\n",
    "count = 0\n",
    "start = timeit.default_timer()\n",
    "for i in range(len(test)):\n",
    "    count += 1\n",
    "    simi = sim(test.loc[i:i,],data,data_ibs)\n",
    "    sim1 = 0\n",
    "    semi_sim = 0\n",
    "    for i in simi:\n",
    "        from_movie = int(i[0])\n",
    "        similar = i[1]\n",
    "        user = int(i[2])\n",
    "        pred_movie = i[3]\n",
    "        if(similar > 0):\n",
    "            tmp = data[(data.movie==from_movie) & (data.user == user)].rating.values*similar\n",
    "            semi_sim += tmp[0]\n",
    "            sim1 += similar\n",
    "            temprate = test[(test.movie==pred_movie) & (test.user == user)].rating.values\n",
    "    prediction.append([user,pred_movie,temprate,semi_sim,sim1])\n",
    "    if(count%100 == 0):\n",
    "        print('Step:',count, 'time:',str(datetime.now().time()))\n",
    "stop = timeit.default_timer()\n",
    "print('total time:',stop - start) #8.402558507048525"
   ]
  },
  {
   "cell_type": "code",
   "execution_count": 18,
   "metadata": {
    "collapsed": false,
    "scrolled": true
   },
   "outputs": [],
   "source": [
    "# save it for future use.\n",
    "sim_mat.to_csv('similaritymatrix_90_10.csv')\n",
    "\n",
    "col = ['user','movie','rating','sim_num','sim_den']\n",
    "df= pd.DataFrame(prediction, columns=col)\n",
    "df['prediction'] = round(df.sim_num/df.sim_den,1)\n",
    "actual_rating = []\n",
    "for i in range(len(df.rating)):\n",
    "    actual_rating.append(df.rating[i][0])\n",
    "df = df.drop('rating', 1)\n",
    "df = df.drop('sim_num', 1)\n",
    "df = df.drop('sim_den', 1)\n",
    "df['rating'] = actual_rating\n",
    "\n",
    "df = df[['user','movie','rating','prediction']]\n",
    "df.to_csv('ratings_predictions_20_cf.csv')"
   ]
  },
  {
   "cell_type": "code",
   "execution_count": 19,
   "metadata": {
    "collapsed": false
   },
   "outputs": [
    {
     "data": {
      "text/plain": [
       "0.9006375913247227"
      ]
     },
     "execution_count": 19,
     "metadata": {},
     "output_type": "execute_result"
    }
   ],
   "source": [
    "mse1_20 = (((df.prediction - df.rating) ** 2).sum()) / len(df.prediction)\n",
    "pow(mse1_20,0.5)  # 0.9083914275558426"
   ]
  },
  {
   "cell_type": "code",
   "execution_count": null,
   "metadata": {
    "collapsed": true
   },
   "outputs": [],
   "source": []
  }
 ],
 "metadata": {
  "anaconda-cloud": {},
  "kernelspec": {
   "display_name": "Python [default]",
   "language": "python",
   "name": "python3"
  },
  "language_info": {
   "codemirror_mode": {
    "name": "ipython",
    "version": 3
   },
   "file_extension": ".py",
   "mimetype": "text/x-python",
   "name": "python",
   "nbconvert_exporter": "python",
   "pygments_lexer": "ipython3",
   "version": "3.5.2"
  }
 },
 "nbformat": 4,
 "nbformat_minor": 1
}
