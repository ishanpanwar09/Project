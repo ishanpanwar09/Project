{
 "cells": [
  {
   "cell_type": "markdown",
   "metadata": {},
   "source": [
    "<h3 align=\"center\">Movie Rating Prediction using Collaborative Filtering</h3> "
   ]
  },
  {
   "cell_type": "markdown",
   "metadata": {},
   "source": [
    "<h3>Stage: 1</h3> "
   ]
  },
  {
   "cell_type": "markdown",
   "metadata": {
    "collapsed": false
   },
   "source": [
    "#### Dependencies for the project"
   ]
  },
  {
   "cell_type": "code",
   "execution_count": 1,
   "metadata": {
    "collapsed": true
   },
   "outputs": [],
   "source": [
    "import pandas as pd\n",
    "import numpy as np\n",
    "import operator\n",
    "from math import sqrt\n",
    "import timeit"
   ]
  },
  {
   "cell_type": "markdown",
   "metadata": {},
   "source": [
    "####    Reading the dataset and assigning column names."
   ]
  },
  {
   "cell_type": "code",
   "execution_count": 2,
   "metadata": {
    "collapsed": true
   },
   "outputs": [],
   "source": [
    "columns = ['user','movie','rating','idk']\n",
    "data = pd.read_csv(\"ratings_training_80.csv\",names = columns)\n",
    "test = pd.read_csv(\"ratings_test_20.csv\",names = columns)"
   ]
  },
  {
   "cell_type": "markdown",
   "metadata": {},
   "source": [
    "#### Removing the extra feature/column"
   ]
  },
  {
   "cell_type": "code",
   "execution_count": 3,
   "metadata": {
    "collapsed": false
   },
   "outputs": [],
   "source": [
    "data = data.drop('idk', 1)\n",
    "test = test.drop('idk', 1)"
   ]
  },
  {
   "cell_type": "markdown",
   "metadata": {},
   "source": [
    "### Scaling Data\n",
    "    * Scaling data for pearson corelation or centered cosine"
   ]
  },
  {
   "cell_type": "code",
   "execution_count": 4,
   "metadata": {
    "collapsed": false
   },
   "outputs": [],
   "source": [
    "#\n",
    "# Getting average rating for a user\n",
    "#\n",
    "all_user = list(set(data.user))\n",
    "avg_rating_of_user = []\n",
    "for i in range(len(all_user)):\n",
    "    df = data.ix[data.user==i]\n",
    "    avg_rating_of_user.append([i,np.average(df.rating.values)])"
   ]
  },
  {
   "cell_type": "code",
   "execution_count": 5,
   "metadata": {
    "collapsed": false,
    "scrolled": true
   },
   "outputs": [
    {
     "name": "stderr",
     "output_type": "stream",
     "text": [
      "/Users/ishansingh/anaconda/lib/python3.5/site-packages/ipykernel/__main__.py:8: SettingWithCopyWarning: \n",
      "A value is trying to be set on a copy of a slice from a DataFrame\n",
      "\n",
      "See the caveats in the documentation: http://pandas.pydata.org/pandas-docs/stable/indexing.html#indexing-view-versus-copy\n"
     ]
    }
   ],
   "source": [
    "all_users= data.user.unique()\n",
    "avg_rating = []\n",
    "for i in all_users:\n",
    "    avg_rating.append([i,np.average(data[data.user==i].rating.values)])\n",
    "data['scaled'] = 0\n",
    "for i in all_users:\n",
    "    data['scaled'][data.user == i] = avg_rating[i][1]\n",
    "\n",
    "data['adj_rating'] = data.rating - data.scaled\n",
    "\n",
    "# creates pivoted dataframe\n",
    "data_ibs = data.pivot(index='user', columns='movie', values='adj_rating')\n",
    "data_ibs = data_ibs.fillna(0)"
   ]
  },
  {
   "cell_type": "code",
   "execution_count": 151,
   "metadata": {
    "collapsed": false
   },
   "outputs": [],
   "source": [
    "# this similarity should be between -1 to 1\n",
    "def my_cosine(vec1,vec2):\n",
    "    num = 0\n",
    "    den1 = 0\n",
    "    den2 = 0\n",
    "    for i in range(len(vec1)):\n",
    "        num += vec1[i]*vec2[i]\n",
    "        if(vec1[i]==0 or vec2[i]==0):\n",
    "            continue\n",
    "        else:\n",
    "            den1 += vec1[i]**2\n",
    "            den2 += vec2[i]**2\n",
    "    den = sqrt(den1) * sqrt(den2)\n",
    "    sim = num/den\n",
    "    return sim\n",
    "\n",
    "# Only uncomment when you want to create one.\n",
    "\n",
    "#sim_mat = pd.DataFrame(np.zeros((9216, 9216)))\n",
    "#sim_mat = sim_mat.replace(0,-5)"
   ]
  },
  {
   "cell_type": "markdown",
   "metadata": {},
   "source": [
    "# Sim function is the main Guy"
   ]
  },
  {
   "cell_type": "code",
   "execution_count": 78,
   "metadata": {
    "collapsed": false
   },
   "outputs": [],
   "source": [
    "def sim(test_instance,data,pivot_df):\n",
    "    similarity = []\n",
    "    item_for_test = int(test_instance.movie.values)\n",
    "    for_user = int(test_instance.user.values)\n",
    "    checkonly_movies = data.ix[data.user==for_user].movie.values  # normal df is used here\n",
    "    for m in checkonly_movies:\n",
    "        # using pivot data\n",
    "        if sim_mat[item_for_test][m] == -5:\n",
    "            sim = my_cosine(pivot_df[item_for_test], pivot_df[m])\n",
    "            sim_mat[item_for_test][m] = sim\n",
    "            sim_mat[m][item_for_test] = sim\n",
    "            rating = pivot_df[m][for_user]\n",
    "            similarity.append((m,sim,for_user,item_for_test,rating))\n",
    "        else:\n",
    "            sim = sim_mat[item_for_test][m]\n",
    "            rating = pivot_df[m][for_user]\n",
    "            similarity.append((m,sim,for_user,item_for_test,rating))\n",
    "    #similarity.sort(key=operator.itemgetter(1))\n",
    "    return similarity"
   ]
  },
  {
   "cell_type": "code",
   "execution_count": 79,
   "metadata": {
    "collapsed": false,
    "scrolled": true
   },
   "outputs": [
    {
     "name": "stdout",
     "output_type": "stream",
     "text": [
      "Step: 100 time: 17:31:13.286579\n",
      "Step: 200 time: 17:31:30.355924\n",
      "Step: 300 time: 17:33:08.637983\n",
      "Step: 400 time: 17:34:31.178151\n",
      "Step: 500 time: 17:35:40.481126\n",
      "Step: 600 time: 17:36:04.085207\n",
      "Step: 700 time: 17:36:27.354298\n",
      "Step: 800 time: 17:37:01.610103\n",
      "Step: 900 time: 17:37:43.456538\n",
      "Step: 1000 time: 17:38:14.015593\n",
      "Step: 1100 time: 17:39:12.766593\n",
      "Step: 1200 time: 17:39:32.316541\n",
      "Step: 1300 time: 17:39:40.541860\n",
      "Step: 1400 time: 17:39:47.649188\n",
      "Step: 1500 time: 17:40:10.242779\n",
      "Step: 1600 time: 17:40:29.632386\n",
      "Step: 1700 time: 17:40:51.563710\n",
      "Step: 1800 time: 17:40:59.593489\n",
      "Step: 1900 time: 17:41:09.617277\n",
      "Step: 2000 time: 17:42:22.118789\n",
      "Step: 2100 time: 17:43:39.418782\n",
      "Step: 2200 time: 17:44:27.427226\n",
      "Step: 2300 time: 17:44:46.708430\n",
      "Step: 2400 time: 17:44:58.583354\n",
      "Step: 2500 time: 17:45:09.388883\n",
      "Step: 2600 time: 17:45:47.120595\n",
      "Step: 2700 time: 17:47:19.923668\n",
      "Step: 2800 time: 17:51:06.232841\n",
      "Step: 2900 time: 17:55:49.962789\n",
      "Step: 3000 time: 18:08:28.794667\n",
      "Step: 3100 time: 18:14:45.877521\n",
      "Step: 3200 time: 18:19:18.492416\n",
      "Step: 3300 time: 18:23:26.704653\n",
      "Step: 3400 time: 18:28:00.219902\n",
      "Step: 3500 time: 18:36:50.964722\n",
      "Step: 3600 time: 18:37:50.174004\n",
      "Step: 3700 time: 18:42:09.289006\n",
      "Step: 3800 time: 18:45:15.581217\n",
      "Step: 3900 time: 18:47:39.251626\n",
      "Step: 4000 time: 18:48:07.361226\n",
      "Step: 4100 time: 18:51:05.187949\n",
      "Step: 4200 time: 18:55:49.327111\n",
      "Step: 4300 time: 18:57:46.231005\n",
      "Step: 4400 time: 19:00:05.598720\n",
      "Step: 4500 time: 19:04:18.148805\n",
      "Step: 4600 time: 19:07:38.023361\n",
      "Step: 4700 time: 19:10:19.683801\n",
      "Step: 4800 time: 19:11:59.736881\n",
      "Step: 4900 time: 19:14:31.782626\n",
      "Step: 5000 time: 19:16:58.570418\n",
      "Step: 5100 time: 19:21:30.230081\n",
      "Step: 5200 time: 19:26:24.460323\n",
      "Step: 5300 time: 19:31:52.610683\n",
      "Step: 5400 time: 19:33:31.872874\n",
      "Step: 5500 time: 19:40:23.294782\n",
      "Step: 5600 time: 19:53:55.148253\n",
      "Step: 5700 time: 20:07:40.712078\n",
      "Step: 5800 time: 20:22:08.361733\n",
      "Step: 5900 time: 20:23:10.659629\n",
      "Step: 6000 time: 20:25:35.969252\n",
      "Step: 6100 time: 20:29:01.818201\n",
      "Step: 6200 time: 20:40:38.811416\n",
      "Step: 6300 time: 20:43:31.035916\n",
      "Step: 6400 time: 20:52:11.353385\n",
      "Step: 6500 time: 20:54:59.708419\n",
      "Step: 6600 time: 20:58:37.646747\n",
      "Step: 6700 time: 21:00:40.759762\n",
      "Step: 6800 time: 21:01:49.358516\n",
      "Step: 6900 time: 21:03:20.142129\n",
      "Step: 7000 time: 21:32:58.856174\n",
      "Step: 7100 time: 21:39:11.012359\n",
      "Step: 7200 time: 21:41:43.199533\n",
      "Step: 7300 time: 21:43:22.448888\n",
      "Step: 7400 time: 21:44:29.414964\n",
      "Step: 7500 time: 21:47:35.706020\n",
      "Step: 7600 time: 21:51:34.023539\n",
      "Step: 7700 time: 21:52:52.187872\n",
      "Step: 7800 time: 22:05:08.565018\n",
      "Step: 7900 time: 22:20:32.671799\n",
      "Step: 8000 time: 22:23:15.486757\n",
      "Step: 8100 time: 22:25:43.023816\n",
      "Step: 8200 time: 22:43:40.536961\n",
      "Step: 8300 time: 22:48:55.652570\n",
      "Step: 8400 time: 23:05:29.378693\n",
      "Step: 8500 time: 23:21:36.555156\n",
      "Step: 8600 time: 23:24:18.176052\n",
      "Step: 8700 time: 23:25:10.436621\n",
      "Step: 8800 time: 23:26:11.431595\n",
      "Step: 8900 time: 23:27:02.456153\n",
      "Step: 9000 time: 23:28:31.428714\n",
      "Step: 9100 time: 23:31:45.025848\n",
      "Step: 9200 time: 23:35:31.650913\n",
      "Step: 9300 time: 23:39:58.799869\n",
      "Step: 9400 time: 23:46:27.058603\n",
      "Step: 9500 time: 23:52:08.050561\n",
      "Step: 9600 time: 23:53:53.940458\n",
      "Step: 9700 time: 23:55:45.651951\n",
      "Step: 9800 time: 00:00:10.729489\n",
      "Step: 9900 time: 00:16:39.412948\n",
      "Step: 10000 time: 00:31:22.879395\n",
      "Step: 10100 time: 00:35:31.734833\n",
      "Step: 10200 time: 00:38:59.126555\n",
      "Step: 10300 time: 00:44:43.450795\n",
      "Step: 10400 time: 00:55:10.741447\n",
      "Step: 10500 time: 00:57:39.768280\n",
      "Step: 10600 time: 00:58:49.978830\n",
      "Step: 10700 time: 01:04:45.902831\n",
      "Step: 10800 time: 01:10:24.130488\n",
      "Step: 10900 time: 01:13:28.291609\n",
      "Step: 11000 time: 01:14:59.357997\n",
      "Step: 11100 time: 01:15:53.844032\n",
      "Step: 11200 time: 01:19:02.032033\n",
      "Step: 11300 time: 01:22:35.488368\n",
      "Step: 11400 time: 01:25:10.472245\n",
      "Step: 11500 time: 01:26:28.795937\n",
      "Step: 11600 time: 01:28:16.407037\n",
      "Step: 11700 time: 01:29:21.136256\n",
      "Step: 11800 time: 01:40:13.584209\n",
      "Step: 11900 time: 02:00:52.087680\n",
      "Step: 12000 time: 02:26:54.245020\n",
      "Step: 12100 time: 02:32:06.790361\n",
      "Step: 12200 time: 02:40:03.448588\n",
      "Step: 12300 time: 02:43:22.139402\n",
      "Step: 12400 time: 02:48:23.670595\n",
      "Step: 12500 time: 02:51:54.777049\n",
      "Step: 12600 time: 02:55:51.179688\n",
      "Step: 12700 time: 03:11:21.850412\n",
      "Step: 12800 time: 03:31:08.102887\n",
      "Step: 12900 time: 03:40:21.684138\n",
      "Step: 13000 time: 03:49:45.464906\n",
      "Step: 13100 time: 03:58:07.342070\n",
      "Step: 13200 time: 04:06:14.013360\n",
      "Step: 13300 time: 04:08:32.094624\n",
      "Step: 13400 time: 04:13:08.887825\n",
      "Step: 13500 time: 04:14:40.177087\n",
      "Step: 13600 time: 04:15:23.703078\n",
      "Step: 13700 time: 04:16:31.857053\n",
      "Step: 13800 time: 04:18:10.037271\n",
      "Step: 13900 time: 04:22:11.008367\n",
      "Step: 14000 time: 04:31:36.605939\n",
      "Step: 14100 time: 04:37:49.240994\n",
      "Step: 14200 time: 04:40:02.353212\n",
      "Step: 14300 time: 04:46:39.473521\n",
      "Step: 14400 time: 04:51:58.587177\n",
      "Step: 14500 time: 04:53:27.517341\n",
      "Step: 14600 time: 04:54:06.381337\n",
      "Step: 14700 time: 05:01:39.806043\n",
      "Step: 14800 time: 05:04:25.554575\n",
      "Step: 14900 time: 05:06:18.778690\n",
      "Step: 15000 time: 05:07:33.828729\n",
      "Step: 15100 time: 05:17:20.282155\n",
      "Step: 15200 time: 05:54:31.504676\n",
      "Step: 15300 time: 06:34:34.579301\n",
      "Step: 15400 time: 07:20:12.489205\n",
      "Step: 15500 time: 10:33:35.357338\n",
      "Step: 15600 time: 10:34:29.649747\n",
      "Step: 15700 time: 10:35:53.195860\n",
      "Step: 15800 time: 10:36:39.279170\n",
      "Step: 15900 time: 10:38:23.828046\n",
      "Step: 16000 time: 11:10:05.867816\n",
      "Step: 16100 time: 11:38:36.262831\n",
      "Step: 16200 time: 12:11:35.576739\n",
      "Step: 16300 time: 12:30:37.635460\n",
      "Step: 16400 time: 12:31:17.185407\n",
      "Step: 16500 time: 12:34:23.053320\n",
      "Step: 16600 time: 12:38:21.875663\n",
      "Step: 16700 time: 12:43:57.782221\n",
      "Step: 16800 time: 12:54:01.458685\n",
      "Step: 16900 time: 12:55:28.455721\n",
      "Step: 17000 time: 12:58:59.063693\n",
      "Step: 17100 time: 13:01:40.360042\n",
      "Step: 17200 time: 13:02:52.555978\n",
      "Step: 17300 time: 13:05:11.689568\n",
      "Step: 17400 time: 13:07:16.738452\n",
      "Step: 17500 time: 13:08:24.335668\n",
      "Step: 17600 time: 13:11:41.400658\n",
      "Step: 17700 time: 13:13:32.995254\n",
      "Step: 17800 time: 13:15:01.014237\n",
      "Step: 17900 time: 13:17:41.650051\n",
      "Step: 18000 time: 13:18:27.905841\n",
      "Step: 18100 time: 13:37:57.554096\n",
      "Step: 18200 time: 14:05:37.363482\n",
      "Step: 18300 time: 14:34:02.784109\n",
      "Step: 18400 time: 14:34:40.533631\n",
      "Step: 18500 time: 14:34:53.342121\n",
      "Step: 18600 time: 14:35:49.441898\n",
      "Step: 18700 time: 14:38:27.934058\n",
      "Step: 18800 time: 14:40:39.436579\n",
      "Step: 18900 time: 14:42:04.501064\n",
      "Step: 19000 time: 14:43:13.773951\n",
      "Step: 19100 time: 14:46:37.721521\n",
      "total time: 64515.90813413006\n"
     ]
    }
   ],
   "source": [
    "from datetime import datetime\n",
    "prediction = []\n",
    "count = 0\n",
    "start = timeit.default_timer()\n",
    "for i in range(len(test)):\n",
    "    count += 1\n",
    "    simi = sim(test.loc[i:i,],data,data_ibs)\n",
    "    sim1 = 0\n",
    "    semi_sim = 0\n",
    "    for i in simi:\n",
    "        from_movie = int(i[0])\n",
    "        similar = i[1]\n",
    "        user = int(i[2])\n",
    "        pred_movie = i[3]\n",
    "        if(similar > 0):\n",
    "            tmp = data[(data.movie==from_movie) & (data.user == user)].rating.values*similar\n",
    "            semi_sim += tmp[0]\n",
    "            sim1 += similar\n",
    "            temprate = test[(test.movie==pred_movie) & (test.user == user)].rating.values\n",
    "    prediction.append([user,pred_movie,temprate,semi_sim,sim1])\n",
    "    if(count%100 == 0):\n",
    "        print('Step:',count, 'time:',str(datetime.now().time()))\n",
    "stop = timeit.default_timer()\n",
    "print('total time:',stop - start) #8.402558507048525"
   ]
  },
  {
   "cell_type": "code",
   "execution_count": 153,
   "metadata": {
    "collapsed": false,
    "scrolled": true
   },
   "outputs": [],
   "source": [
    "# save it for future use.\n",
    "#sim_mat.to_csv('similaritymatrix.csv')\n",
    "\n",
    "col = ['user','movie','rating','sim_num','sim_den']\n",
    "df= pd.DataFrame(prediction, columns=col)\n",
    "df['prediction'] = round(df.sim_num/df.sim_den,1)\n",
    "actual_rating = []\n",
    "for i in range(len(df.rating)):\n",
    "    actual_rating.append(df.rating[i][0])\n",
    "df = df.drop('rating', 1)\n",
    "df = df.drop('sim_num', 1)\n",
    "df = df.drop('sim_den', 1)\n",
    "df['rating'] = actual_rating\n",
    "\n",
    "df = df[['user','movie','rating','prediction']]\n",
    "df.to_csv('ratings_predictions_20_cf.csv')"
   ]
  },
  {
   "cell_type": "code",
   "execution_count": 144,
   "metadata": {
    "collapsed": false
   },
   "outputs": [
    {
     "data": {
      "text/plain": [
       "0.9083914275558426"
      ]
     },
     "execution_count": 144,
     "metadata": {},
     "output_type": "execute_result"
    }
   ],
   "source": [
    "mse1_20 = (((df.prediction - df.rating) ** 2).sum()) / len(df.prediction)\n",
    "pow(mse1_20,0.5)  # 0.9083914275558426"
   ]
  },
  {
   "cell_type": "markdown",
   "metadata": {},
   "source": [
    "### Conducted the metric work below, manually copy pasted the values after various runs."
   ]
  },
  {
   "cell_type": "code",
   "execution_count": 25,
   "metadata": {
    "collapsed": false
   },
   "outputs": [],
   "source": [
    "RMSE_CF = [0.9083914275558426, 0.9147539035726028, 0.9006375913247227, 0.8986882417760402]\n",
    "splitType = ['CF_80-20', 'CF_85-15', 'CF_90-10', 'CF_95-05']\n",
    "time_CF = [64515.90813413006,62773.40323617036,\n",
    "        58426.296713575,51463.84230065497]\n",
    "cf_metric = pd.DataFrame(splitType,columns=['CF-Type'])\n",
    "cf_metric['RMSE_CF'] = RMSE_CF\n",
    "cf_metric['time_CF'] = time_CF\n",
    "\n",
    "# below is hard coded for all metric of the project\n",
    "time = [660.6614640900079, 662.0650260520051, \n",
    "        660.425073802995,700.3680259380053, \n",
    "        668.4838295660011, 653.8688204270002,\n",
    "       64515.90813413006,62773.40323617036,\n",
    "        58426.296713575,51463.84230065497]\n",
    "algorithm = ['Wt-KNN', 'Wt-KNN', 'Wt-KNN', 'UNWT-KNN', 'UNWT-KNN', 'UNWT-KNN','CF_80-20', 'CF_85-15', 'CF_90-10', 'CF_95-05']\n",
    "rmse = [1.2707091613268062, 1.1444297704440511, \n",
    "        1.054834443814851,1.127934707729547, \n",
    "        1.0604713965491257, 1.02051020791709,\n",
    "       0.9083914275558426, 0.9147539035726028, \n",
    "        0.9006375913247227, 0.8986882417760402]\n",
    "\n",
    "k = [3,5,10,3,5,10,'NA','NA','NA','NA']\n",
    "metric = pd.DataFrame(algorithm,columns=['Algorithm'])\n",
    "metric['K'] = k\n",
    "metric['time'] = time\n",
    "metric['rmse'] = rmse"
   ]
  },
  {
   "cell_type": "code",
   "execution_count": 26,
   "metadata": {
    "collapsed": false
   },
   "outputs": [
    {
     "name": "stdout",
     "output_type": "stream",
     "text": [
      "  Algorithm   K          time      rmse\n",
      "0    Wt-KNN   3    660.661464  1.270709\n",
      "1    Wt-KNN   5    662.065026  1.144430\n",
      "2    Wt-KNN  10    660.425074  1.054834\n",
      "3  UNWT-KNN   3    700.368026  1.127935\n",
      "4  UNWT-KNN   5    668.483830  1.060471\n",
      "5  UNWT-KNN  10    653.868820  1.020510\n",
      "6  CF_80-20  NA  64515.908134  0.908391\n",
      "7  CF_85-15  NA  62773.403236  0.914754\n",
      "8  CF_90-10  NA  58426.296714  0.900638\n",
      "9  CF_95-05  NA  51463.842301  0.898688\n"
     ]
    }
   ],
   "source": [
    "print(metric)"
   ]
  },
  {
   "cell_type": "code",
   "execution_count": 24,
   "metadata": {
    "collapsed": false
   },
   "outputs": [
    {
     "data": {
      "image/png": "[encoded data removed]",
      "text/plain": [
       "<matplotlib.figure.Figure at 0x118900c88>"
      ]
     },
     "metadata": {},
     "output_type": "display_data"
    }
   ],
   "source": [
    "g = sns.pointplot(x=\"Algorithm\", y=\"rmse\", data=metric)\n",
    "g.set(xlabel='Algorithm', ylabel='RMSE')\n",
    "plt.show()"
   ]
  },
  {
   "cell_type": "code",
   "execution_count": 23,
   "metadata": {
    "collapsed": false
   },
   "outputs": [
    {
     "data": {
      "image/png": "[encoded data removed]",
      "text/plain": [
       "<matplotlib.figure.Figure at 0x11859dac8>"
      ]
     },
     "metadata": {},
     "output_type": "display_data"
    }
   ],
   "source": [
    "import seaborn as sns\n",
    "import matplotlib.pyplot as plt\n",
    "g = sns.pointplot(x=\"CF-Type\", y=\"time_CF\", data=cf_metric)\n",
    "g.set(xlabel='CF_Splits', ylabel='Time taken in seconds')\n",
    "plt.show()"
   ]
  },
  {
   "cell_type": "code",
   "execution_count": 22,
   "metadata": {
    "collapsed": false
   },
   "outputs": [
    {
     "data": {
      "image/png": "[encoded data removed]",
      "text/plain": [
       "<matplotlib.figure.Figure at 0x1181e5048>"
      ]
     },
     "metadata": {},
     "output_type": "display_data"
    }
   ],
   "source": [
    "g = sns.pointplot(x=\"CF-Type\", y=\"RMSE_CF\", data=cf_metric)\n",
    "g.set(xlabel='CF_Splits', ylabel='RMSE')\n",
    "plt.show()"
   ]
  },
  {
   "cell_type": "code",
   "execution_count": null,
   "metadata": {
    "collapsed": true
   },
   "outputs": [],
   "source": []
  }
 ],
 "metadata": {
  "anaconda-cloud": {},
  "kernelspec": {
   "display_name": "Python [default]",
   "language": "python",
   "name": "python3"
  },
  "language_info": {
   "codemirror_mode": {
    "name": "ipython",
    "version": 3
   },
   "file_extension": ".py",
   "mimetype": "text/x-python",
   "name": "python",
   "nbconvert_exporter": "python",
   "pygments_lexer": "ipython3",
   "version": "3.5.2"
  }
 },
 "nbformat": 4,
 "nbformat_minor": 1
}
