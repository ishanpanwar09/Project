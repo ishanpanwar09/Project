{
 "cells": [
  {
   "cell_type": "code",
   "execution_count": 124,
   "metadata": {
    "collapsed": false
   },
   "outputs": [],
   "source": [
    "import pandas as pd\n",
    "import numpy as np\n",
    "import timeit\n",
    "import operator\n",
    "from __future__ import division # for having results of accuracy in floating numbers\n",
    "from scipy.spatial import distance\n",
    "from sklearn.metrics import mean_squared_error as mse\n",
    "from math import sqrt"
   ]
  },
  {
   "cell_type": "code",
   "execution_count": 125,
   "metadata": {
    "collapsed": false
   },
   "outputs": [],
   "source": [
    "def transformData(df):\n",
    "    temp=[]\n",
    "    for row in df.iterrows():\n",
    "        index, data = row\n",
    "        temp.append(data.tolist())\n",
    "    return temp\n",
    "\n",
    "columns = ['user','movie','rating','idk']\n",
    "train_90 = pd.read_csv(\"ratings_training_90.csv\",names = columns)\n",
    "test_10 = pd.read_csv(\"ratings_test_10.csv\",names = columns)\n",
    "test = transformData(test_10)"
   ]
  },
  {
   "cell_type": "code",
   "execution_count": 126,
   "metadata": {
    "collapsed": false
   },
   "outputs": [],
   "source": [
    "df_train= train_90.pivot(index='user', columns='movie', values='rating')\n",
    "df_test= test_10.pivot(index='user', columns='movie', values='rating')\n",
    "df_train = df_train.fillna(0)\n",
    "df_test = df_test.fillna(0)\n",
    "time = []\n",
    "rmsT = []"
   ]
  },
  {
   "cell_type": "code",
   "execution_count": 127,
   "metadata": {
    "collapsed": false
   },
   "outputs": [],
   "source": [
    "def getNeighbors(trainingSet, testInstance, k):\n",
    "    testuser = int(testInstance[0])  \n",
    "    testmovie = testInstance[1] \n",
    "    test_user_rating = testInstance[2]\n",
    "    reduced_Data = trainingSet[trainingSet[testmovie] > 0]   # Subset of data for test movie id\n",
    "    Other_users_rated_as = np.array(pd.DataFrame(reduced_Data)[int(testmovie)])\n",
    "    filtered_users = reduced_Data.index.values   # users who have watched the movie being rated \n",
    "    pred_user = trainingSet[trainingSet.index == testuser]\n",
    "    distances = []     # calculating distance\n",
    "    d = 0 \n",
    "    for i in filtered_users:\n",
    "        dist = distance.euclidean(reduced_Data[reduced_Data.index == i],pred_user)\n",
    "        distances.append([testuser,i,int(reduced_Data[reduced_Data.index==i][testmovie].values),dist])\n",
    "    distances.sort(key=operator.itemgetter(3))\n",
    "    check = len(distances)\n",
    "    neighbors = []\n",
    "    if (check > k):\n",
    "        for i in range(k):\n",
    "            neighbors.append(distances[i])\n",
    "    else:\n",
    "        for i in range(check):\n",
    "            neighbors.append(distances[i])\n",
    "    return neighbors"
   ]
  },
  {
   "cell_type": "code",
   "execution_count": 128,
   "metadata": {
    "collapsed": true
   },
   "outputs": [],
   "source": [
    "def get(neighbor):\n",
    "    num_of_neighbors = len(neighbor)\n",
    "    onlyDistances = []\n",
    "    onlyRaings = []\n",
    "    Di = []\n",
    "    Winum = []\n",
    "    Widen = []\n",
    "    Di_rating = []\n",
    "    cl = 0\n",
    "    for x in range(num_of_neighbors):\n",
    "        onlyDistances.append(neighbor[x][3])\n",
    "        onlyRaings.append(neighbor[x][2])\n",
    "    Dmax = max(onlyDistances)\n",
    "    Dmin = min(onlyDistances)\n",
    "    if (Dmax - Dmin != 0):\n",
    "        for x in range(num_of_neighbors):\n",
    "            #print(Dmax,neighbor[x][3],Dmin)\n",
    "            Winum.append((Dmax-neighbor[x][3])/(Dmax - Dmin)) \n",
    "            Di.append(Winum[x]*onlyDistances[x])\n",
    "            Di_rating.append(Di[x] * onlyRaings[x])\n",
    "        prediction = round(sum(Di_rating)/sum(Di),1)\n",
    "    else:\n",
    "        for x in range(len(neighbor)):\n",
    "            cl += neighbor[x][2]\n",
    "        prediction = round(cl/float(len(neighbor)), 1)    \n",
    "    #return(Winum,Di,Di_rating,prediction)\n",
    "    return(prediction)"
   ]
  },
  {
   "cell_type": "code",
   "execution_count": 139,
   "metadata": {
    "collapsed": false
   },
   "outputs": [],
   "source": [
    "a = int(len(test))\n",
    "start = timeit.default_timer()\n",
    "pred = []\n",
    "predictions=[]\n",
    "k = 10\n",
    "#a = 20\n",
    "for x in range(a):\n",
    "    neigh = getNeighbors(df_train, test[x], k)\n",
    "    result = get(neigh)\n",
    "    predictions.append([test[x][0],test[x][1],test[x][2],result])\n",
    "    pred.append(result)\n",
    "stop = timeit.default_timer()\n",
    "stop = stop - start"
   ]
  },
  {
   "cell_type": "code",
   "execution_count": 140,
   "metadata": {
    "collapsed": false
   },
   "outputs": [],
   "source": [
    "# Weighted KNN\n",
    "# time.  K = 3:   660.6614640900079  RMSE: 1.2707091613268062\n",
    "# time.  K = 5:   662.0650260520051  RMSE: 1.1444297704440511\n",
    "# time.  K = 10:  660.425073802995  RMSE: 1.054834443814851"
   ]
  },
  {
   "cell_type": "code",
   "execution_count": 141,
   "metadata": {
    "collapsed": false
   },
   "outputs": [],
   "source": [
    "pred = pd.DataFrame(predictions)\n",
    "pred.to_csv('ratings_predictions_10_knn_wt_k10.csv')"
   ]
  },
  {
   "cell_type": "code",
   "execution_count": 142,
   "metadata": {
    "collapsed": false
   },
   "outputs": [],
   "source": [
    "time.append(stop)\n",
    "rms = sqrt(mse(pred[2],pred[3]))\n",
    "rmsT.append(rms)"
   ]
  },
  {
   "cell_type": "code",
   "execution_count": 143,
   "metadata": {
    "collapsed": false
   },
   "outputs": [
    {
     "data": {
      "text/plain": [
       "([660.6614640900079, 662.0650260520051, 660.425073802995],\n",
       " [1.2707091613268062, 1.1444297704440511, 1.054834443814851])"
      ]
     },
     "execution_count": 143,
     "metadata": {},
     "output_type": "execute_result"
    }
   ],
   "source": [
    "time, rmsT"
   ]
  },
  {
   "cell_type": "code",
   "execution_count": null,
   "metadata": {
    "collapsed": true
   },
   "outputs": [],
   "source": []
  }
 ],
 "metadata": {
  "anaconda-cloud": {},
  "kernelspec": {
   "display_name": "Python 3",
   "language": "python",
   "name": "python3"
  },
  "language_info": {
   "codemirror_mode": {
    "name": "ipython",
    "version": 3
   },
   "file_extension": ".py",
   "mimetype": "text/x-python",
   "name": "python",
   "nbconvert_exporter": "python",
   "pygments_lexer": "ipython3",
   "version": "3.6.0"
  }
 },
 "nbformat": 4,
 "nbformat_minor": 2
}
