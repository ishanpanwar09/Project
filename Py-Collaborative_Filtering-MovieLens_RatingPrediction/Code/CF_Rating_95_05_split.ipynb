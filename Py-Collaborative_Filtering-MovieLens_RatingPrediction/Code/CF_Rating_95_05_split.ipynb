{
 "cells": [
  {
   "cell_type": "markdown",
   "metadata": {},
   "source": [
    "<h3 align=\"center\">Movie Rating Prediction using Collaborative Filtering</h3> "
   ]
  },
  {
   "cell_type": "markdown",
   "metadata": {
    "collapsed": false
   },
   "source": [
    "#### Dependencies for the project"
   ]
  },
  {
   "cell_type": "code",
   "execution_count": 3,
   "metadata": {
    "collapsed": true
   },
   "outputs": [],
   "source": [
    "import pandas as pd\n",
    "import numpy as np\n",
    "import operator\n",
    "from math import sqrt\n",
    "import timeit"
   ]
  },
  {
   "cell_type": "markdown",
   "metadata": {},
   "source": [
    "####    Reading the dataset and assigning column names."
   ]
  },
  {
   "cell_type": "code",
   "execution_count": 4,
   "metadata": {
    "collapsed": true
   },
   "outputs": [],
   "source": [
    "columns = ['user','movie','rating','idk']\n",
    "data = pd.read_csv(\"ratings_training_95.csv\",names = columns)\n",
    "test = pd.read_csv(\"ratings_test_05.csv\",names = columns)"
   ]
  },
  {
   "cell_type": "markdown",
   "metadata": {},
   "source": [
    "#### Removing the extra feature/column"
   ]
  },
  {
   "cell_type": "code",
   "execution_count": 5,
   "metadata": {
    "collapsed": false
   },
   "outputs": [],
   "source": [
    "data = data.drop('idk', 1)\n",
    "test = test.drop('idk', 1)"
   ]
  },
  {
   "cell_type": "markdown",
   "metadata": {},
   "source": [
    "### Scaling Data\n",
    "    * Scaling data for pearson corelation or centered cosine"
   ]
  },
  {
   "cell_type": "code",
   "execution_count": 6,
   "metadata": {
    "collapsed": false
   },
   "outputs": [],
   "source": [
    "#\n",
    "# Getting average rating for a user\n",
    "#\n",
    "all_user = list(set(data.user))\n",
    "avg_rating_of_user = []\n",
    "for i in range(len(all_user)):\n",
    "    df = data.ix[data.user==i]\n",
    "    avg_rating_of_user.append([i,np.average(df.rating.values)])"
   ]
  },
  {
   "cell_type": "code",
   "execution_count": 7,
   "metadata": {
    "collapsed": false,
    "scrolled": true
   },
   "outputs": [
    {
     "name": "stderr",
     "output_type": "stream",
     "text": [
      "/Users/ishansingh/anaconda/lib/python3.5/site-packages/ipykernel/__main__.py:7: SettingWithCopyWarning: \n",
      "A value is trying to be set on a copy of a slice from a DataFrame\n",
      "\n",
      "See the caveats in the documentation: http://pandas.pydata.org/pandas-docs/stable/indexing.html#indexing-view-versus-copy\n"
     ]
    }
   ],
   "source": [
    "all_users= data.user.unique()\n",
    "avg_rating = []\n",
    "for i in all_users:\n",
    "    avg_rating.append([i,np.average(data[data.user==i].rating.values)])\n",
    "data['scaled'] = 0\n",
    "for i in all_users:\n",
    "    data['scaled'][data.user == i] = avg_rating[i][1]\n",
    "\n",
    "data['adj_rating'] = data.rating - data.scaled\n",
    "\n",
    "# creates pivoted dataframe\n",
    "data_ibs = data.pivot(index='user', columns='movie', values='adj_rating')\n",
    "data_ibs = data_ibs.fillna(0)"
   ]
  },
  {
   "cell_type": "code",
   "execution_count": 8,
   "metadata": {
    "collapsed": false
   },
   "outputs": [],
   "source": [
    "# this similarity should be between -1 to 1\n",
    "def my_cosine(vec1,vec2):\n",
    "    num = 0\n",
    "    den1 = 0\n",
    "    den2 = 0\n",
    "    for i in range(len(vec1)):\n",
    "        num += vec1[i]*vec2[i]\n",
    "        if(vec1[i]==0 or vec2[i]==0):\n",
    "            continue\n",
    "        else:\n",
    "            den1 += vec1[i]**2\n",
    "            den2 += vec2[i]**2\n",
    "    den = sqrt(den1) * sqrt(den2)\n",
    "    sim = num/den\n",
    "    return sim\n",
    "\n",
    "# Only uncomment when you want to create one.\n",
    "\n",
    "sim_mat = pd.DataFrame(np.zeros((9216, 9216)))\n",
    "sim_mat = sim_mat.replace(0,-5)"
   ]
  },
  {
   "cell_type": "markdown",
   "metadata": {},
   "source": [
    "# Sim function is the main Guy"
   ]
  },
  {
   "cell_type": "code",
   "execution_count": 9,
   "metadata": {
    "collapsed": false
   },
   "outputs": [],
   "source": [
    "def sim(test_instance,data,pivot_df):\n",
    "    similarity = []\n",
    "    item_for_test = int(test_instance.movie.values)\n",
    "    for_user = int(test_instance.user.values)\n",
    "    checkonly_movies = data.ix[data.user==for_user].movie.values  # normal df is used here\n",
    "    for m in checkonly_movies:\n",
    "        # using pivot data\n",
    "        if sim_mat[item_for_test][m] == -5:\n",
    "            sim = my_cosine(pivot_df[item_for_test], pivot_df[m])\n",
    "            sim_mat[item_for_test][m] = sim\n",
    "            sim_mat[m][item_for_test] = sim\n",
    "            rating = pivot_df[m][for_user]\n",
    "            similarity.append((m,sim,for_user,item_for_test,rating))\n",
    "        else:\n",
    "            sim = sim_mat[item_for_test][m]\n",
    "            rating = pivot_df[m][for_user]\n",
    "            similarity.append((m,sim,for_user,item_for_test,rating))\n",
    "    #similarity.sort(key=operator.itemgetter(1))\n",
    "    return similarity"
   ]
  },
  {
   "cell_type": "code",
   "execution_count": 10,
   "metadata": {
    "collapsed": false,
    "scrolled": true
   },
   "outputs": [
    {
     "name": "stdout",
     "output_type": "stream",
     "text": [
      "Step: 100 time: 16:51:42.206831\n",
      "Step: 200 time: 17:37:15.806758\n",
      "Step: 300 time: 18:04:27.629234\n",
      "Step: 400 time: 18:13:20.191576\n",
      "Step: 500 time: 18:27:40.436211\n",
      "Step: 600 time: 18:50:23.642408\n",
      "Step: 700 time: 18:53:08.708262\n",
      "Step: 800 time: 19:00:51.304764\n",
      "Step: 900 time: 19:08:32.679912\n",
      "Step: 1000 time: 19:10:34.263853\n",
      "Step: 1100 time: 19:40:15.706248\n",
      "Step: 1200 time: 20:10:14.123741\n",
      "Step: 1300 time: 20:14:17.774355\n",
      "Step: 1400 time: 20:17:02.797299\n",
      "Step: 1500 time: 20:20:53.164768\n",
      "Step: 1600 time: 20:32:14.826082\n",
      "Step: 1700 time: 20:38:18.486291\n",
      "Step: 1800 time: 20:46:34.106939\n",
      "Step: 1900 time: 20:51:23.369293\n",
      "Step: 2000 time: 20:55:47.917921\n",
      "Step: 2100 time: 20:57:25.349532\n",
      "Step: 2200 time: 21:01:37.305512\n",
      "Step: 2300 time: 21:05:31.542956\n",
      "Step: 2400 time: 21:09:48.616596\n",
      "Step: 2500 time: 21:13:05.999485\n",
      "Step: 2600 time: 21:18:09.027233\n",
      "Step: 2700 time: 21:23:52.460510\n",
      "Step: 2800 time: 21:27:30.542572\n",
      "Step: 2900 time: 21:44:33.096206\n",
      "Step: 3000 time: 21:56:30.182921\n",
      "Step: 3100 time: 21:58:41.840575\n",
      "Step: 3200 time: 22:07:44.834114\n",
      "Step: 3300 time: 22:11:47.235192\n",
      "Step: 3400 time: 22:15:27.562511\n",
      "Step: 3500 time: 22:17:41.285926\n",
      "Step: 3600 time: 22:27:46.839862\n",
      "Step: 3700 time: 22:30:47.683637\n",
      "Step: 3800 time: 22:33:18.543975\n",
      "Step: 3900 time: 22:37:43.168954\n",
      "Step: 4000 time: 22:52:22.555835\n",
      "Step: 4100 time: 22:57:00.299764\n",
      "Step: 4200 time: 23:07:03.298345\n",
      "Step: 4300 time: 23:25:53.661346\n",
      "Step: 4400 time: 23:28:06.001649\n",
      "Step: 4500 time: 23:29:31.898685\n",
      "Step: 4600 time: 23:32:27.826301\n",
      "Step: 4700 time: 23:37:15.115762\n",
      "Step: 4800 time: 23:44:07.388419\n",
      "Step: 4900 time: 23:46:05.331022\n",
      "Step: 5000 time: 23:56:01.708749\n",
      "Step: 5100 time: 00:11:40.448550\n",
      "Step: 5200 time: 00:16:53.930690\n",
      "Step: 5300 time: 00:27:45.394206\n",
      "Step: 5400 time: 00:30:07.753719\n",
      "Step: 5500 time: 00:35:26.095388\n",
      "Step: 5600 time: 00:36:57.302212\n",
      "Step: 5700 time: 00:41:17.648792\n",
      "Step: 5800 time: 00:43:32.159944\n",
      "Step: 5900 time: 00:45:39.300700\n",
      "Step: 6000 time: 00:59:28.638041\n",
      "Step: 6100 time: 01:19:45.867788\n",
      "Step: 6200 time: 01:28:04.116272\n",
      "Step: 6300 time: 01:35:10.158443\n",
      "Step: 6400 time: 01:45:00.632707\n",
      "Step: 6500 time: 02:03:29.557545\n",
      "Step: 6600 time: 02:15:30.742658\n",
      "Step: 6700 time: 02:20:07.480278\n",
      "Step: 6800 time: 02:23:42.799715\n",
      "Step: 6900 time: 02:25:27.724799\n",
      "Step: 7000 time: 02:35:15.573704\n",
      "Step: 7100 time: 02:40:34.746955\n",
      "Step: 7200 time: 02:48:32.995835\n",
      "Step: 7300 time: 02:50:57.282623\n",
      "Step: 7400 time: 02:56:48.400557\n",
      "Step: 7500 time: 02:59:09.699914\n",
      "Step: 7600 time: 03:39:33.897453\n",
      "Step: 7700 time: 04:26:36.158508\n",
      "Step: 7800 time: 04:28:09.131302\n",
      "Step: 7900 time: 04:33:29.274724\n",
      "Step: 8000 time: 05:10:58.101866\n",
      "Step: 8100 time: 05:23:37.160369\n",
      "Step: 8200 time: 05:29:43.663810\n",
      "Step: 8300 time: 05:40:52.162544\n",
      "Step: 8400 time: 05:44:58.071457\n",
      "Step: 8500 time: 05:47:27.442004\n",
      "Step: 8600 time: 05:50:25.322089\n",
      "Step: 8700 time: 05:53:35.606245\n",
      "Step: 8800 time: 05:56:15.415334\n",
      "Step: 8900 time: 06:04:03.721666\n",
      "Step: 9000 time: 06:37:06.050430\n",
      "Step: 9100 time: 06:49:48.993042\n",
      "Step: 9200 time: 06:51:38.788037\n",
      "Step: 9300 time: 06:55:41.439100\n",
      "Step: 9400 time: 06:58:12.071881\n",
      "total time: 51463.84230065497\n"
     ]
    }
   ],
   "source": [
    "from datetime import datetime\n",
    "prediction = []\n",
    "count = 0\n",
    "start = timeit.default_timer()\n",
    "for i in range(len(test)):\n",
    "    count += 1\n",
    "    simi = sim(test.loc[i:i,],data,data_ibs)\n",
    "    sim1 = 0\n",
    "    semi_sim = 0\n",
    "    for i in simi:\n",
    "        from_movie = int(i[0])\n",
    "        similar = i[1]\n",
    "        user = int(i[2])\n",
    "        pred_movie = i[3]\n",
    "        if(similar > 0):\n",
    "            tmp = data[(data.movie==from_movie) & (data.user == user)].rating.values*similar\n",
    "            semi_sim += tmp[0]\n",
    "            sim1 += similar\n",
    "            temprate = test[(test.movie==pred_movie) & (test.user == user)].rating.values\n",
    "    prediction.append([user,pred_movie,temprate,semi_sim,sim1])\n",
    "    if(count%100 == 0):\n",
    "        print('Step:',count, 'time:',str(datetime.now().time()))\n",
    "stop = timeit.default_timer()\n",
    "print('total time:',stop - start) "
   ]
  },
  {
   "cell_type": "code",
   "execution_count": 15,
   "metadata": {
    "collapsed": false,
    "scrolled": true
   },
   "outputs": [],
   "source": [
    "# save it for future use.\n",
    "sim_mat.to_csv('similaritymatrix_95_05.csv')\n",
    "\n",
    "col = ['user','movie','rating','sim_num','sim_den']\n",
    "df= pd.DataFrame(prediction, columns=col)\n",
    "df['prediction'] = round(df.sim_num/df.sim_den,1)\n",
    "actual_rating = []\n",
    "for i in range(len(df.rating)):\n",
    "    actual_rating.append(df.rating[i][0])\n",
    "df = df.drop('rating', 1)\n",
    "df = df.drop('sim_num', 1)\n",
    "df = df.drop('sim_den', 1)\n",
    "df['rating'] = actual_rating\n",
    "\n",
    "df = df[['user','movie','rating','prediction']]\n",
    "df.to_csv('ratings_predictions_05_cf.csv')"
   ]
  },
  {
   "cell_type": "code",
   "execution_count": 12,
   "metadata": {
    "collapsed": false
   },
   "outputs": [
    {
     "data": {
      "text/plain": [
       "0.8986882417760402"
      ]
     },
     "execution_count": 12,
     "metadata": {},
     "output_type": "execute_result"
    }
   ],
   "source": [
    "mse1_20 = (((df.prediction - df.rating) ** 2).sum()) / len(df.prediction)\n",
    "pow(mse1_20,0.5)"
   ]
  },
  {
   "cell_type": "code",
   "execution_count": null,
   "metadata": {
    "collapsed": true
   },
   "outputs": [],
   "source": []
  }
 ],
 "metadata": {
  "anaconda-cloud": {},
  "kernelspec": {
   "display_name": "Python [default]",
   "language": "python",
   "name": "python3"
  },
  "language_info": {
   "codemirror_mode": {
    "name": "ipython",
    "version": 3
   },
   "file_extension": ".py",
   "mimetype": "text/x-python",
   "name": "python",
   "nbconvert_exporter": "python",
   "pygments_lexer": "ipython3",
   "version": "3.5.2"
  }
 },
 "nbformat": 4,
 "nbformat_minor": 1
}
