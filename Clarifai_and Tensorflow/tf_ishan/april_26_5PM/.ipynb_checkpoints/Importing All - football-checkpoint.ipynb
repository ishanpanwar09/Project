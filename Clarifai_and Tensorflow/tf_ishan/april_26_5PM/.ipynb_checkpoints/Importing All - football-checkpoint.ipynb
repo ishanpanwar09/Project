{
 "cells": [
  {
   "cell_type": "code",
   "execution_count": 1,
   "metadata": {
    "collapsed": false
   },
   "outputs": [
    {
     "name": "stderr",
     "output_type": "stream",
     "text": [
      "Hey! Clarifai Python Client v2.0.21 upgrade available.\n"
     ]
    }
   ],
   "source": [
    "# Packages for reading local files\n",
    "import os\n",
    "import glob\n",
    "from clarifai.rest import ClarifaiApp\n",
    "from clarifai.rest import Image as ClImage\n",
    "import pandas as pd\n",
    "import numpy as np\n",
    "import matplotlib.pyplot as plt\n",
    "import seaborn as sns\n",
    "from PIL import Image\n",
    "import requests\n",
    "from io import BytesIO\n",
    "import json\n",
    "\n",
    "# My app UserInfo\n",
    "app = ClarifaiApp(\"hQ8SfN7UGPXZCSzRJjwp2otiMmOGPDQP2u4ELVGa\", \"3AubtLczsqlsIwrURujv6aLNrMCqq3H9pD1lQEfx\") \n",
    "# Adding our image onto our app\n",
    "#app.inputs.create_image_from_filename('./corgi/corgi-1.jpg', concepts=['corgi'])"
   ]
  },
  {
   "cell_type": "code",
   "execution_count": 14,
   "metadata": {
    "collapsed": false
   },
   "outputs": [],
   "source": [
    "# importing path for Concerts to create their respective dataframes in pandas.\n",
    "#path = r'/Users/ishansingh/Documents/tf_ishan/concert'\n",
    "path_concert_f1 = r'/Users/ishansingh/Documents/tf_ishan/TrainData/football/football_f1'\n",
    "path_concert_f2 = r'/Users/ishansingh/Documents/tf_ishan/TrainData/football/football_f2'\n",
    "path_concert_f3 = r'/Users/ishansingh/Documents/tf_ishan/TrainData/football/football_f3'\n",
    "path_concert_f4 = r'/Users/ishansingh/Documents/tf_ishan/TrainData/football/football_f4'\n",
    "hl_concept1 = ['football']"
   ]
  },
  {
   "cell_type": "code",
   "execution_count": 7,
   "metadata": {
    "collapsed": false
   },
   "outputs": [],
   "source": [
    "# in case of memory issue: clean these variables\n",
    "#del images_concert_f1\n",
    "#del images_concert_f2\n",
    "#del images_concert_f3\n",
    "#del images_concert_f4"
   ]
  },
  {
   "cell_type": "code",
   "execution_count": 8,
   "metadata": {
    "collapsed": false
   },
   "outputs": [],
   "source": [
    "# uploading images to Clarifi for concept extraction (this take a little time!)\n",
    "# reading and storing files as dataframes in a list\n",
    "\n",
    "# for folder 1\n",
    "allFiles = glob.glob(path_concert_f1 + \"/*.jpg\")\n",
    "l1 = []\n",
    "for file in allFiles:\n",
    "    l1.append(file)\n",
    "images_concert_f1 = []\n",
    "for i in l1:\n",
    "    img = ClImage(filename=i, concepts=['Concert'])\n",
    "    images_concert_f1.append(img)\n",
    "\n",
    "app.inputs.bulk_create_images(images_concert_f1)\n",
    "del images_concert_f1"
   ]
  },
  {
   "cell_type": "code",
   "execution_count": 15,
   "metadata": {
    "collapsed": false
   },
   "outputs": [],
   "source": [
    "# for folder 2\n",
    "allFiles = glob.glob(path_concert_f2 + \"/*.jpg\")\n",
    "l2 = []\n",
    "for file in allFiles:\n",
    "    l2.append(file)\n",
    "images_concert_f2 = []\n",
    "for i in l2:\n",
    "    img = ClImage(filename=i, concepts=['Concert'])\n",
    "    images_concert_f2.append(img)\n",
    "\n",
    "app.inputs.bulk_create_images(images_concert_f2)\n",
    "del images_concert_f2"
   ]
  },
  {
   "cell_type": "code",
   "execution_count": 16,
   "metadata": {
    "collapsed": false
   },
   "outputs": [],
   "source": [
    "# for folder 3\n",
    "allFiles = glob.glob(path_concert_f3 + \"/*.jpg\")\n",
    "l3 = []\n",
    "for file in allFiles:\n",
    "    l3.append(file)\n",
    "images_concert_f3 = []\n",
    "for i in l3:\n",
    "    img = ClImage(filename=i, concepts=['Concert'])\n",
    "    images_concert_f3.append(img)\n",
    "\n",
    "app.inputs.bulk_create_images(images_concert_f3)\n",
    "del images_concert_f3"
   ]
  },
  {
   "cell_type": "code",
   "execution_count": 17,
   "metadata": {
    "collapsed": false
   },
   "outputs": [],
   "source": [
    "   \n",
    "# for folder 4\n",
    "allFiles = glob.glob(path_concert_f4 + \"/*.jpg\")\n",
    "l4 = []\n",
    "for file in allFiles:\n",
    "    l4.append(file)\n",
    "images_concert_f4 = []\n",
    "for i in l4:\n",
    "    img = ClImage(filename=i, concepts=['Concert'])\n",
    "    images_concert_f4.append(img)\n",
    "\n",
    "app.inputs.bulk_create_images(images_concert_f4)\n",
    "del images_concert_f4"
   ]
  },
  {
   "cell_type": "code",
   "execution_count": 27,
   "metadata": {
    "collapsed": false,
    "scrolled": true
   },
   "outputs": [],
   "source": [
    "# uploading images to the application, this can be checked by login in to the clarifi and previewing the model.\n",
    "#app.inputs.bulk_create_images(images_concert_f2)\n",
    "\n",
    "# Extracting the meta data from the set of images and storing them to a dictionary (because output is JSON)\n",
    "#model = app.models.get('concert')\n",
    "#model = app.models.get('general-v1.3')\n",
    "#pred = []\n",
    "#for i in l:\n",
    "#    pre = model.predict_by_filename(i)\n",
    "#    pred.append(pre)\n",
    "\n",
    "#pred_comb = pred_comb + pred"
   ]
  },
  {
   "cell_type": "code",
   "execution_count": null,
   "metadata": {
    "collapsed": false,
    "scrolled": true
   },
   "outputs": [],
   "source": [
    "# creates the model (we need to specify what model are we using) and train it.\n",
    "#model = app.models.create(model_id=\"t\")\n",
    "#model.train()"
   ]
  },
  {
   "cell_type": "code",
   "execution_count": 20,
   "metadata": {
    "collapsed": false
   },
   "outputs": [],
   "source": [
    "#del l\n",
    "l = l1 + l2 + l3 + l4\n",
    "model = app.models.get('general-v1.3')\n",
    "pred = []\n",
    "df = []\n",
    "for i in l:\n",
    "    pre = model.predict_by_filename(i) # outputs a dictionary\n",
    "    if pre['status'] is not None and pre['status']['description'] and pre['status']['description'] == 'Ok':concepts = pre['outputs'][0]['data']['concepts']\n",
    "    # iterating the dictionary \n",
    "    for key in concepts:\n",
    "        if key['value'] >= 0.90:  # threshold definition\n",
    "            df.append(key)"
   ]
  },
  {
   "cell_type": "code",
   "execution_count": 21,
   "metadata": {
    "collapsed": false
   },
   "outputs": [],
   "source": [
    "# transforing the Json of Concepts to a well neat Data Frame\n",
    "pdf = pd.DataFrame(df)\n",
    "pdf = pdf.drop('app_id', axis=1)\n",
    "pdf = pdf.drop('id', axis=1)"
   ]
  },
  {
   "cell_type": "code",
   "execution_count": 22,
   "metadata": {
    "collapsed": false
   },
   "outputs": [],
   "source": [
    "# writing the metadata to csv for further direct usage.\n",
    "pdf.to_csv('Football_metadata.csv')\n",
    "# group to find main concepts and their frequency for a series of images\n",
    "pdf = pdf.groupby('name').count()"
   ]
  },
  {
   "cell_type": "code",
   "execution_count": 23,
   "metadata": {
    "collapsed": false,
    "scrolled": true
   },
   "outputs": [],
   "source": [
    "imp20Metadata_Concert = pdf[pdf.value >= 20]\n",
    "lessImpMetadata_Concert = pdf[pdf.value < 20]"
   ]
  },
  {
   "cell_type": "code",
   "execution_count": 26,
   "metadata": {
    "collapsed": false
   },
   "outputs": [
    {
     "data": {
      "image/png": "[encoded data removed]",
      "text/plain": [
       "<matplotlib.figure.Figure at 0x11b470e48>"
      ]
     },
     "metadata": {},
     "output_type": "display_data"
    }
   ],
   "source": [
    "a = pd.DataFrame(imp20Metadata_Concert)\n",
    "a['name'] = a.index\n",
    "a.columns = ['value','name']\n",
    "\n",
    "# select particular highest\n",
    "# best5 = a.nlargest(5,'value')\n",
    "\n",
    "sns.set(style=\"ticks\", color_codes=False)\n",
    "g=sns.barplot(x=\"name\", y=\"value\", data=a)\n",
    "plt.setp(g.get_xticklabels(), rotation=65)\n",
    "plt.show()"
   ]
  },
  {
   "cell_type": "code",
   "execution_count": 25,
   "metadata": {
    "collapsed": false
   },
   "outputs": [
    {
     "data": {
      "text/html": [
       "<div>\n",
       "<table border=\"1\" class=\"dataframe\">\n",
       "  <thead>\n",
       "    <tr style=\"text-align: right;\">\n",
       "      <th></th>\n",
       "      <th>value</th>\n",
       "      <th>name</th>\n",
       "    </tr>\n",
       "    <tr>\n",
       "      <th>name</th>\n",
       "      <th></th>\n",
       "      <th></th>\n",
       "    </tr>\n",
       "  </thead>\n",
       "  <tbody>\n",
       "    <tr>\n",
       "      <th>action</th>\n",
       "      <td>114</td>\n",
       "      <td>action</td>\n",
       "    </tr>\n",
       "    <tr>\n",
       "      <th>action energy</th>\n",
       "      <td>31</td>\n",
       "      <td>action energy</td>\n",
       "    </tr>\n",
       "    <tr>\n",
       "      <th>adult</th>\n",
       "      <td>91</td>\n",
       "      <td>adult</td>\n",
       "    </tr>\n",
       "    <tr>\n",
       "      <th>athlete</th>\n",
       "      <td>154</td>\n",
       "      <td>athlete</td>\n",
       "    </tr>\n",
       "    <tr>\n",
       "      <th>ball</th>\n",
       "      <td>150</td>\n",
       "      <td>ball</td>\n",
       "    </tr>\n",
       "    <tr>\n",
       "      <th>baseball</th>\n",
       "      <td>27</td>\n",
       "      <td>baseball</td>\n",
       "    </tr>\n",
       "    <tr>\n",
       "      <th>championship</th>\n",
       "      <td>33</td>\n",
       "      <td>championship</td>\n",
       "    </tr>\n",
       "    <tr>\n",
       "      <th>competition</th>\n",
       "      <td>188</td>\n",
       "      <td>competition</td>\n",
       "    </tr>\n",
       "    <tr>\n",
       "      <th>crowd</th>\n",
       "      <td>24</td>\n",
       "      <td>crowd</td>\n",
       "    </tr>\n",
       "    <tr>\n",
       "      <th>football</th>\n",
       "      <td>108</td>\n",
       "      <td>football</td>\n",
       "    </tr>\n",
       "    <tr>\n",
       "      <th>fun</th>\n",
       "      <td>28</td>\n",
       "      <td>fun</td>\n",
       "    </tr>\n",
       "    <tr>\n",
       "      <th>game</th>\n",
       "      <td>156</td>\n",
       "      <td>game</td>\n",
       "    </tr>\n",
       "    <tr>\n",
       "      <th>goal</th>\n",
       "      <td>46</td>\n",
       "      <td>goal</td>\n",
       "    </tr>\n",
       "    <tr>\n",
       "      <th>group together</th>\n",
       "      <td>94</td>\n",
       "      <td>group together</td>\n",
       "    </tr>\n",
       "    <tr>\n",
       "      <th>man</th>\n",
       "      <td>130</td>\n",
       "      <td>man</td>\n",
       "    </tr>\n",
       "    <tr>\n",
       "      <th>many</th>\n",
       "      <td>82</td>\n",
       "      <td>many</td>\n",
       "    </tr>\n",
       "    <tr>\n",
       "      <th>match</th>\n",
       "      <td>45</td>\n",
       "      <td>match</td>\n",
       "    </tr>\n",
       "    <tr>\n",
       "      <th>motion</th>\n",
       "      <td>53</td>\n",
       "      <td>motion</td>\n",
       "    </tr>\n",
       "    <tr>\n",
       "      <th>outfit</th>\n",
       "      <td>78</td>\n",
       "      <td>outfit</td>\n",
       "    </tr>\n",
       "    <tr>\n",
       "      <th>people</th>\n",
       "      <td>164</td>\n",
       "      <td>people</td>\n",
       "    </tr>\n",
       "    <tr>\n",
       "      <th>recreation</th>\n",
       "      <td>29</td>\n",
       "      <td>recreation</td>\n",
       "    </tr>\n",
       "    <tr>\n",
       "      <th>soccer</th>\n",
       "      <td>108</td>\n",
       "      <td>soccer</td>\n",
       "    </tr>\n",
       "    <tr>\n",
       "      <th>spectator</th>\n",
       "      <td>36</td>\n",
       "      <td>spectator</td>\n",
       "    </tr>\n",
       "    <tr>\n",
       "      <th>sport</th>\n",
       "      <td>66</td>\n",
       "      <td>sport</td>\n",
       "    </tr>\n",
       "    <tr>\n",
       "      <th>sports equipment</th>\n",
       "      <td>83</td>\n",
       "      <td>sports equipment</td>\n",
       "    </tr>\n",
       "    <tr>\n",
       "      <th>sports fan</th>\n",
       "      <td>20</td>\n",
       "      <td>sports fan</td>\n",
       "    </tr>\n",
       "    <tr>\n",
       "      <th>stadium</th>\n",
       "      <td>146</td>\n",
       "      <td>stadium</td>\n",
       "    </tr>\n",
       "    <tr>\n",
       "      <th>track</th>\n",
       "      <td>26</td>\n",
       "      <td>track</td>\n",
       "    </tr>\n",
       "    <tr>\n",
       "      <th>uniform</th>\n",
       "      <td>77</td>\n",
       "      <td>uniform</td>\n",
       "    </tr>\n",
       "    <tr>\n",
       "      <th>victory</th>\n",
       "      <td>27</td>\n",
       "      <td>victory</td>\n",
       "    </tr>\n",
       "    <tr>\n",
       "      <th>wear</th>\n",
       "      <td>68</td>\n",
       "      <td>wear</td>\n",
       "    </tr>\n",
       "  </tbody>\n",
       "</table>\n",
       "</div>"
      ],
      "text/plain": [
       "                  value              name\n",
       "name                                     \n",
       "action              114            action\n",
       "action energy        31     action energy\n",
       "adult                91             adult\n",
       "athlete             154           athlete\n",
       "ball                150              ball\n",
       "baseball             27          baseball\n",
       "championship         33      championship\n",
       "competition         188       competition\n",
       "crowd                24             crowd\n",
       "football            108          football\n",
       "fun                  28               fun\n",
       "game                156              game\n",
       "goal                 46              goal\n",
       "group together       94    group together\n",
       "man                 130               man\n",
       "many                 82              many\n",
       "match                45             match\n",
       "motion               53            motion\n",
       "outfit               78            outfit\n",
       "people              164            people\n",
       "recreation           29        recreation\n",
       "soccer              108            soccer\n",
       "spectator            36         spectator\n",
       "sport                66             sport\n",
       "sports equipment     83  sports equipment\n",
       "sports fan           20        sports fan\n",
       "stadium             146           stadium\n",
       "track                26             track\n",
       "uniform              77           uniform\n",
       "victory              27           victory\n",
       "wear                 68              wear"
      ]
     },
     "execution_count": 25,
     "metadata": {},
     "output_type": "execute_result"
    }
   ],
   "source": [
    "imp20Metadata_Concert"
   ]
  },
  {
   "cell_type": "code",
   "execution_count": null,
   "metadata": {
    "collapsed": true
   },
   "outputs": [],
   "source": []
  }
 ],
 "metadata": {
  "anaconda-cloud": {},
  "kernelspec": {
   "display_name": "Python [default]",
   "language": "python",
   "name": "python3"
  },
  "language_info": {
   "codemirror_mode": {
    "name": "ipython",
    "version": 3
   },
   "file_extension": ".py",
   "mimetype": "text/x-python",
   "name": "python",
   "nbconvert_exporter": "python",
   "pygments_lexer": "ipython3",
   "version": "3.5.2"
  }
 },
 "nbformat": 4,
 "nbformat_minor": 1
}
